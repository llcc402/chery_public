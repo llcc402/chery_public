{
 "cells": [
  {
   "cell_type": "code",
   "execution_count": 2,
   "metadata": {},
   "outputs": [],
   "source": [
    "import tensorflow as tf \n",
    "from tensorflow.keras.layers import Dense \n",
    "import numpy as np \n",
    "import matplotlib.pyplot as plt \n",
    "import os \n",
    "os.environ[\"KMP_DUPLICATE_LIB_OK\"]=\"TRUE\""
   ]
  },
  {
   "cell_type": "code",
   "execution_count": 124,
   "metadata": {},
   "outputs": [],
   "source": [
    "A = np.random.normal(size=[100,2])\n",
    "B = np.random.normal(size=[200,2], loc=1)\n",
    "data = np.concatenate([A,B])\n",
    "\n",
    "yA1 = np.array([1]*100 + [0]*200)\n",
    "yA2 = np.array([0]*100 + [1]*200)\n",
    "yB = np.ones(300)\n",
    "y = np.concatenate([yA1[:,np.newaxis], yA2[:,np.newaxis], yB[:,np.newaxis]], axis=1)"
   ]
  },
  {
   "cell_type": "code",
   "execution_count": 125,
   "metadata": {},
   "outputs": [
    {
     "data": {
      "image/png": "[encoded data removed]",
      "text/plain": [
       "<Figure size 500x500 with 1 Axes>"
      ]
     },
     "metadata": {},
     "output_type": "display_data"
    }
   ],
   "source": [
    "plt.figure(figsize=(5,5))\n",
    "plt.scatter(data[y[:,0]==1,0],data[y[:,0]==1,1], label='A1')\n",
    "plt.scatter(data[y[:,1]==1,0],data[y[:,1]==1,1], label='A2')\n",
    "plt.legend()\n",
    "plt.show()"
   ]
  },
  {
   "cell_type": "code",
   "execution_count": 126,
   "metadata": {},
   "outputs": [],
   "source": [
    "def get_area(x1, y1, x2, y2):\n",
    "    '''\n",
    "    x1 < x2, the inequality should be strict\n",
    "    '''\n",
    "    return (y1 + y2) * (x2 - x1) / 2\n",
    "\n",
    "def get_score(model, x, y):\n",
    "    local_logits, global_logits = model(x)\n",
    "    local_logits, global_logits = model.postprocess(local_logits, global_logits)\n",
    "    total_prob, local_prob, global_prob = model.get_prob(local_logits, global_logits)\n",
    "    \n",
    "    precision_list = [0]\n",
    "    recall_list = [1]\n",
    "    for threshold in np.arange(0.01, 1, 0.01):\n",
    "        pred_int = tf.cast(total_prob >= threshold, tf.int16)\n",
    "        tp = pred_int * y \n",
    "        fp = pred_int * (1-y)\n",
    "        fn = (1-pred_int) * y\n",
    "        \n",
    "        tp = tf.reduce_sum(tp)\n",
    "        fp = tf.reduce_sum(fp)\n",
    "        fn = tf.reduce_sum(fn)\n",
    "        \n",
    "        precision = tp / (tp+fp)\n",
    "        recall = tp / (tp+fn)\n",
    "        \n",
    "        if not (np.isnan(precision) or np.isnan(recall)):\n",
    "            precision_list.append(precision)\n",
    "            recall_list.append(recall)\n",
    "        \n",
    "    idx = np.argsort(precision_list)\n",
    "    precision_np = np.array(precision_list)\n",
    "    recall_np = np.array(recall_list)\n",
    "    \n",
    "    precision_np = precision_np[idx]\n",
    "    recall_np = recall_np[idx]\n",
    "    \n",
    "    area = 0 \n",
    "    for i in range(len(precision_np)-1):\n",
    "        area += get_area(precision_np[i], recall_np[i], precision_np[i+1], recall_np[i+1])\n",
    "    \n",
    "    return area"
   ]
  },
  {
   "cell_type": "code",
   "execution_count": 127,
   "metadata": {},
   "outputs": [],
   "source": [
    "def get_max_with_structure(structure):\n",
    "    ''' \n",
    "    structure   an np.array with shape [M,M], where M is the number of all classes\n",
    "                structure[i,j] == 1 iff \"i\" is a subclass of \"j\". Remind that \"i\" is \n",
    "                subclass of itself, so the diagonal elements are all 1\n",
    "    '''\n",
    "    def max_with_structure(logits):\n",
    "        '''\n",
    "        logits      outputs of a neural net before sigmoid activation, shape = [N,M]\n",
    "        '''\n",
    "        logits = logits[..., tf.newaxis] # [N,M,1]\n",
    "        \n",
    "        structure1 = structure + np.eye(structure.shape[0])\n",
    "        structure1 = np.where(structure1 == 0, -np.inf, structure1)\n",
    "        structure1 = np.where(structure1 == 1, 0, structure1)\n",
    "        structure1 = tf.convert_to_tensor(structure1[np.newaxis,...], tf.float32) # [1,M,M]\n",
    "        \n",
    "        logits = logits + structure1 # [N,M,M]\n",
    "        logits = tf.reduce_max(logits, axis=1) #[N,M]\n",
    "        \n",
    "        logits = tf.where(tf.math.is_inf(logits), np.inf, logits)\n",
    "        return logits \n",
    "    return max_with_structure"
   ]
  },
  {
   "cell_type": "code",
   "execution_count": 128,
   "metadata": {},
   "outputs": [],
   "source": [
    "class CoherentLSTM(tf.keras.Model):\n",
    "    def __init__(self, units, beta, num_classes_list, num_layers, structure):\n",
    "        super(CoherentLSTM, self).__init__()\n",
    "        self.units = units\n",
    "        self.beta = beta \n",
    "        self.num_layers = num_layers\n",
    "        self.structure = structure \n",
    "        \n",
    "        self.input_gate = Dense(units, activation='sigmoid')\n",
    "        self.forget_gate = Dense(units, activation='sigmoid')\n",
    "        self.output_gate = Dense(units, activation='sigmoid')\n",
    "        self.candidate_gate = Dense(units, activation='tanh')\n",
    "        \n",
    "        self.local_W = list()\n",
    "        for i in range(num_layers):\n",
    "            self.local_W.append(Dense(num_classes_list[i]))\n",
    "        self.global_W = Dense(tf.reduce_sum(num_classes_list))\n",
    "        \n",
    "    def call(self, inputs):\n",
    "        # init \n",
    "        x = tf.concat(\n",
    "            [inputs, tf.zeros([inputs.shape[0], self.units])],\n",
    "            axis = -1\n",
    "        )\n",
    "        candidate_last = tf.zeros(self.units)\n",
    "        local_logits = list()\n",
    "        \n",
    "        # main loop\n",
    "        for i in range(self.num_layers):\n",
    "            # gates\n",
    "            forget_prob = self.forget_gate(x)\n",
    "            input_prob = self.input_gate(x)\n",
    "            output_prob = self.output_gate(x)\n",
    "            candidate_hat = self.candidate_gate(x)\n",
    "            \n",
    "            # outputs\n",
    "            candidate = input_prob * candidate_hat + forget_prob * candidate_last\n",
    "            outputs = output_prob * tf.math.tanh(candidate)\n",
    "            \n",
    "            # update\n",
    "            candidate_last = candidate \n",
    "            x = tf.concat([inputs, outputs], axis=-1)\n",
    "            \n",
    "            local_logits.append(self.local_W[i](outputs))\n",
    "            \n",
    "        global_logits = self.global_W(\n",
    "            tf.concat([inputs, outputs], axis=-1)\n",
    "        )\n",
    "        \n",
    "        return tf.concat(local_logits, axis=-1), global_logits\n",
    "    \n",
    "    def postprocess(self, local_logits, global_logits):\n",
    "        max_with_structure = get_max_with_structure(self.structure)\n",
    "        local_logits = max_with_structure(local_logits)\n",
    "        global_logits = max_with_structure(global_logits)\n",
    "        return local_logits, global_logits\n",
    "    \n",
    "    def get_prob(self, local_logits, global_logits):\n",
    "        local_prob = tf.math.sigmoid(local_logits)\n",
    "        global_prob = tf.math.sigmoid(global_logits)\n",
    "        total_prob = self.beta * local_prob + (1-self.beta) * global_prob\n",
    "        return total_prob, local_prob, global_prob"
   ]
  },
  {
   "cell_type": "code",
   "execution_count": 129,
   "metadata": {},
   "outputs": [],
   "source": [
    "\n",
    "def loss_fn_traditional(y_true, y_pred):\n",
    "    ''' \n",
    "    y_pred should contain post processed local and global logits\n",
    "    '''\n",
    "    local_logits, global_logits = y_pred \n",
    "    local_loss = tf.nn.sigmoid_cross_entropy_with_logits(y_true, local_logits)\n",
    "    global_loss = tf.nn.sigmoid_cross_entropy_with_logits(y_true, global_logits)\n",
    "    return tf.reduce_mean(local_loss) + tf.reduce_mean(global_loss) "
   ]
  },
  {
   "cell_type": "code",
   "execution_count": 130,
   "metadata": {},
   "outputs": [],
   "source": [
    "def get_train_fn(model, loss_fn, optimizer):\n",
    "    def train_fn(x, y):\n",
    "        with tf.GradientTape() as tape:\n",
    "            local_logits, global_logits = model(x)\n",
    "            local_logits, global_logits = model.postprocess(local_logits, global_logits)\n",
    "            loss = loss_fn(y, [local_logits, global_logits])\n",
    "            variables = model.trainable_variables\n",
    "            gradients = tape.gradient(loss, variables)\n",
    "            optimizer.apply_gradients(zip(gradients, variables))\n",
    "        return loss \n",
    "    return train_fn"
   ]
  },
  {
   "cell_type": "code",
   "execution_count": 131,
   "metadata": {},
   "outputs": [],
   "source": [
    "structure = np.array([[0,0,1],[0,0,1],[0,0,0]])\n",
    "model = CoherentLSTM(10, 0.5, [2,1], 2, structure)\n",
    "train_fn = get_train_fn(model, loss_fn_traditional, tf.keras.optimizers.Adam(1e-2))"
   ]
  },
  {
   "cell_type": "code",
   "execution_count": 132,
   "metadata": {},
   "outputs": [
    {
     "name": "stdout",
     "output_type": "stream",
     "text": [
      "epoch 10/100, loss 1.1338696479797363\n",
      "epoch 20/100, loss 0.9518829584121704\n",
      "epoch 30/100, loss 0.8266856074333191\n",
      "epoch 40/100, loss 0.7484595775604248\n",
      "epoch 50/100, loss 0.6956615447998047\n",
      "epoch 60/100, loss 0.6536952257156372\n",
      "epoch 70/100, loss 0.6238783001899719\n",
      "epoch 80/100, loss 0.6110279560089111\n",
      "epoch 90/100, loss 0.6044628024101257\n",
      "epoch 100/100, loss 0.601354718208313\n"
     ]
    }
   ],
   "source": [
    "for epoch in range(100):\n",
    "    loss = train_fn(data, tf.convert_to_tensor(y, tf.float32))\n",
    "    if (epoch+1) % 10 == 0:\n",
    "        print(\"epoch {}/100, loss {}\".format(epoch+1, loss))"
   ]
  },
  {
   "cell_type": "code",
   "execution_count": 133,
   "metadata": {},
   "outputs": [
    {
     "name": "stdout",
     "output_type": "stream",
     "text": [
      "AU(PRC)=0.9692735421624654\n"
     ]
    }
   ],
   "source": [
    "local_logits, global_logits = model(data)\n",
    "local_logits, global_logits = model.postprocess(local_logits, global_logits)\n",
    "total_prob, local_prob, global_prob = model.get_prob(local_logits, global_logits)\n",
    "print('AU(PRC)={}'.format(get_score(model, data, y)))"
   ]
  },
  {
   "attachments": {},
   "cell_type": "markdown",
   "metadata": {},
   "source": [
    "The original loss function is written as $L_A = -y_A \\log(\\max_B\\{y_B h_B\\}) - (1-y_A) \\log (\\max_B\\{h_B\\})$, where $h_B=sigmoid(x_B)$. To avoid underflow in log function, we insert the sigmoid function into $L_A$ and write \n",
    "\n",
    "$$\n",
    "L_A = -y_A \\log\\left(\\max_B \\left[\\frac{y_B}{1+\\exp(-x_B)} \\right]\\right) - (1-y_A) \\log\\left(1-\\max_B\\left[\\frac{1}{1+\\exp(-x_B)}\\right]\\right) \n",
    "$$\n",
    "\n",
    "Construct \n",
    "\n",
    "$$\n",
    "\\tilde{y}_B =\n",
    "\\begin{cases}\n",
    " 1, &\\text{if $y_B = 1$} \\\\\n",
    "              -\\infty \\times sign(x_B) , &\\text{if $y_B = 0$} \n",
    "\\end{cases}\n",
    "$$\n",
    "\n",
    "We can see that \n",
    "$$\n",
    "L_A = y_A \\log \\left(1 + \\exp(-\\max_B \\{\\tilde{y}_B x_B\\}) \\right) + (1-y_A) \\log \\left(1+\\exp(-\\max_B \\{x_B\\})\\right) + (1-y_A)  \\max \\{x_B\\}\n",
    "$$\n",
    "\n",
    "Furthermore, to avoid overflow in the exponential function when $x<0$, write\n",
    "$$\n",
    "\\begin{aligned}\n",
    "\\log\\left(1+\\exp(-x)\\right) &= -x + x + \\log\\left(1+\\exp(-x)\\right) \\\\\n",
    "&= -x + \\log\\left(\\exp(x)\\right) + \\log\\left(1+\\exp(-x)\\right) \\\\\n",
    "&= -x + \\log\\left(1+\\exp(x)\\right)\n",
    "\\end{aligned}\n",
    "$$\n",
    "\n",
    "Generally, we have\n",
    "$$\n",
    "\\log\\left(1+\\exp(-x)\\right) = \\max\\{-x, 0\\} + \\log\\left(1+\\exp(-|x|)\\right)\n",
    "$$"
   ]
  },
  {
   "cell_type": "code",
   "execution_count": 134,
   "metadata": {},
   "outputs": [],
   "source": [
    "def softplus(x):\n",
    "    ''' \n",
    "    return log(1+exp(-x))\n",
    "    '''\n",
    "    r = tf.maximum(-x, 0) + tf.math.log(1 + tf.exp(-tf.abs(x)))\n",
    "    return r \n",
    "\n",
    "def get_cross_logits_y(y):\n",
    "    @tf.custom_gradient\n",
    "    def cross_logits_y(logits):\n",
    "        outputs = tf.where(y == 0, -np.inf, logits)\n",
    "        def grad(upstream):\n",
    "            return upstream * tf.where(y == 1, 1.0, 0.0)\n",
    "        return outputs, grad\n",
    "    return cross_logits_y\n",
    "\n",
    "def get_loss_fn_logits(model):\n",
    "    def loss_fn_logits(y_true, y_pred):\n",
    "        ''' \n",
    "        y_pred      logits before postprocessing\n",
    "        '''\n",
    "        local_logits, global_logits = y_pred\n",
    "        cross_logits_y = get_cross_logits_y(y_true)\n",
    "        max_with_structure = get_max_with_structure(model.structure)\n",
    "        \n",
    "        loss1 = y_true * softplus(max_with_structure(cross_logits_y(local_logits)))\n",
    "        loss2 = (1-y_true) * softplus(max_with_structure(local_logits)) \n",
    "        loss3 = (1-y_true) * max_with_structure(local_logits)\n",
    "        local_loss = tf.reduce_mean(loss1 + loss2 + loss3)\n",
    "        \n",
    "        loss1 = y_true * softplus(max_with_structure(cross_logits_y(global_logits)))\n",
    "        loss2 = (1-y_true) * softplus(max_with_structure(global_logits)) \n",
    "        loss3 = (1-y_true) * max_with_structure(global_logits)\n",
    "        global_loss = tf.reduce_mean(loss1 + loss2 + loss3)\n",
    "        \n",
    "        return local_loss + global_loss\n",
    "    return loss_fn_logits"
   ]
  },
  {
   "cell_type": "code",
   "execution_count": 135,
   "metadata": {},
   "outputs": [
    {
     "name": "stdout",
     "output_type": "stream",
     "text": [
      "epoch 10/100, loss 1.0192092657089233\n",
      "epoch 20/100, loss 0.8898001909255981\n",
      "epoch 30/100, loss 0.8147627115249634\n",
      "epoch 40/100, loss 0.7656739950180054\n",
      "epoch 50/100, loss 0.7251306772232056\n",
      "epoch 60/100, loss 0.6874844431877136\n",
      "epoch 70/100, loss 0.6561836004257202\n",
      "epoch 80/100, loss 0.6319832801818848\n",
      "epoch 90/100, loss 0.6162023544311523\n",
      "epoch 100/100, loss 0.6066035032272339\n"
     ]
    }
   ],
   "source": [
    "structure = np.array([[0,0,1],[0,0,1],[0,0,0]])\n",
    "model = CoherentLSTM(10, 0.5, [2,1], 2, structure)\n",
    "loss_fn = get_loss_fn_logits(model)\n",
    "train_fn = get_train_fn(model, loss_fn, tf.keras.optimizers.Adam(1e-2))\n",
    "\n",
    "for epoch in range(100):\n",
    "    loss = train_fn(data, tf.convert_to_tensor(y, tf.float32))\n",
    "    if (epoch+1) % 10 == 0:\n",
    "        print(\"epoch {}/100, loss {}\".format(epoch+1, loss))"
   ]
  },
  {
   "cell_type": "code",
   "execution_count": 136,
   "metadata": {},
   "outputs": [
    {
     "name": "stdout",
     "output_type": "stream",
     "text": [
      "AU(PRC)=0.9693861622075257\n"
     ]
    }
   ],
   "source": [
    "local_logits, global_logits = model(data)\n",
    "local_logits, global_logits = model.postprocess(local_logits, global_logits)\n",
    "total_prob, local_prob, global_prob = model.get_prob(local_logits, global_logits)\n",
    "print('AU(PRC)={}'.format(get_score(model, data, y)))"
   ]
  },
  {
   "attachments": {},
   "cell_type": "markdown",
   "metadata": {},
   "source": [
    "Comparison between square loss and cross entropy loss for binary classification. Let \n",
    "$$\n",
    "L_1 = (y-p(\\hat{y}))^2 \n",
    "$$\n",
    "and \n",
    "$$\n",
    "L_2 = -y\\cdot\\log(p(\\hat{y})) - (1-y) \\cdot (\\log(1-p(\\hat{y})))\n",
    "$$\n",
    "where \n",
    "$$\n",
    "p(\\hat{y}) = \\frac{1}{1+e^{-\\hat{y}}}\n",
    "$$\n",
    "Now, let's see the gradients of the above 2 losses with respect to $\\hat{y}$. \n",
    "$$\n",
    "\\frac{d L_1}{d\\hat{y}} = \\frac{d L_1}{d p} \\cdot \\frac{d p}{d\\hat{y}} = 2(p-y)\\cdot p (1-p)\n",
    "$$\n",
    "and \n",
    "$$\n",
    "\\frac{d L_2}{d\\hat{y}} = \\frac{d L_2}{d p} \\cdot \\frac{d p}{d\\hat{y}} = - \\frac{y}{p} \\cdot p(1-p) + \\frac{1-y}{1-p} \\cdot p(1-p) = -y(1-p) + p(1-y) = p-y \n",
    "$$"
   ]
  },
  {
   "cell_type": "code",
   "execution_count": 11,
   "metadata": {},
   "outputs": [],
   "source": [
    "def f(x):\n",
    "    x = tf.nn.sigmoid(x)\n",
    "    return tf.math.pow(x - 1,2)\n",
    "\n",
    "x = tf.Variable(tf.convert_to_tensor(np.arange(-10,10,0.01),dtype=tf.float32))\n",
    "dydx = list()\n",
    "with tf.GradientTape() as tape:\n",
    "    y = f(x)\n",
    "    dydx.append(tape.gradient(y,x))\n",
    "dydx = [i.numpy() for i in dydx][0]"
   ]
  },
  {
   "cell_type": "code",
   "execution_count": 14,
   "metadata": {},
   "outputs": [
    {
     "data": {
      "text/plain": [
       "[<matplotlib.lines.Line2D at 0x2463990b188>]"
      ]
     },
     "execution_count": 14,
     "metadata": {},
     "output_type": "execute_result"
    },
    {
     "data": {
      "image/png": "[encoded data removed]",
      "text/plain": [
       "<Figure size 640x480 with 1 Axes>"
      ]
     },
     "metadata": {},
     "output_type": "display_data"
    }
   ],
   "source": [
    "plt.plot(np.arange(-10,10,0.01), dydx)"
   ]
  },
  {
   "cell_type": "code",
   "execution_count": 22,
   "metadata": {},
   "outputs": [
    {
     "data": {
      "text/plain": [
       "array([-9.9995458e-01, -9.9995416e-01, -9.9995369e-01, ...,\n",
       "       -4.6780362e-05, -4.6314941e-05, -4.5854114e-05], dtype=float32)"
      ]
     },
     "execution_count": 22,
     "metadata": {},
     "output_type": "execute_result"
    }
   ],
   "source": [
    "def g(x):\n",
    "    return tf.nn.sigmoid_cross_entropy_with_logits(tf.ones_like(x), x)\n",
    "x = tf.Variable(np.arange(-10,10,0.01), dtype=tf.float32)\n",
    "with tf.GradientTape() as tape:\n",
    "    y = g(x)\n",
    "    dgdx = tape.gradient(y, x)\n",
    "dgdx = dgdx.numpy()\n",
    "dgdx "
   ]
  },
  {
   "cell_type": "code",
   "execution_count": 24,
   "metadata": {},
   "outputs": [
    {
     "data": {
      "text/plain": [
       "[<matplotlib.lines.Line2D at 0x246399ddc88>]"
      ]
     },
     "execution_count": 24,
     "metadata": {},
     "output_type": "execute_result"
    },
    {
     "data": {
      "image/png": "[encoded data removed]",
      "text/plain": [
       "<Figure size 640x480 with 1 Axes>"
      ]
     },
     "metadata": {},
     "output_type": "display_data"
    }
   ],
   "source": [
    "plt.plot(np.arange(-10,10,0.01), dgdx)"
   ]
  },
  {
   "attachments": {},
   "cell_type": "markdown",
   "metadata": {},
   "source": [
    "The gradient of $L=\\max \\{0, p(x) -p(f(x))\\}^2$ is \n",
    "$$\n",
    "\\frac{dL}{dx} = \n",
    "\\begin{cases}\n",
    "2 \\left(p(1-p) - p(f)(1-p(f))f'(x)\\right), &p(x) > p(f(x))\\\\\n",
    "0, &p(x) \\leq p(f(x))\n",
    "\\end{cases}\n",
    "$$\n",
    "\n",
    "The gradient of $L_1 = \\max \\left\\{0, \\log\\left(p(x)/p(f(x))\\right)\\right\\}$ is \n",
    "$$\n",
    "\\frac{dL_1}{dx} = \n",
    "\\begin{cases}\n",
    "1 - p(x) - (1-p(f))f'(x), & p(x) > p(f(x))\\\\\n",
    "0, & p(x) \\leq p(f(x))\n",
    "\\end{cases}\n",
    "$$\n",
    "\n",
    "When $x$ and $f(x)$ are extremely positive or negative, the gradient $dL/dx$ can be small, while $dL_1/dx$ is small when $x$ and $f(x)$ are extremely negative"
   ]
  },
  {
   "cell_type": "code",
   "execution_count": null,
   "metadata": {},
   "outputs": [],
   "source": []
  }
 ],
 "metadata": {
  "kernelspec": {
   "display_name": "tf",
   "language": "python",
   "name": "python3"
  },
  "language_info": {
   "codemirror_mode": {
    "name": "ipython",
    "version": 3
   },
   "file_extension": ".py",
   "mimetype": "text/x-python",
   "name": "python",
   "nbconvert_exporter": "python",
   "pygments_lexer": "ipython3",
   "version": "3.7.13"
  },
  "orig_nbformat": 4,
  "vscode": {
   "interpreter": {
    "hash": "0b118cd4708a217f676eace989c7f65c28bb1737b4d79cbde311a23c592f7bda"
   }
  }
 },
 "nbformat": 4,
 "nbformat_minor": 2
}
