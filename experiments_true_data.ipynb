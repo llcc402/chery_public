{
 "cells": [
  {
   "cell_type": "code",
   "execution_count": 2,
   "metadata": {},
   "outputs": [],
   "source": [
    "from utils import datasets\n",
    "from utils.parser import * \n",
    "import os \n",
    "import numpy as np \n",
    "from sklearn.preprocessing import StandardScaler\n",
    "from sklearn.impute import SimpleImputer\n",
    "import tensorflow as tf \n",
    "from models import * \n",
    "from utilities import *\n",
    "from train_model_utilities import * \n",
    "import networkx as nx \n",
    "os.environ[\"KMP_DUPLICATE_LIB_OK\"]=\"TRUE\""
   ]
  },
  {
   "cell_type": "code",
   "execution_count": 3,
   "metadata": {},
   "outputs": [],
   "source": [
    "dataset_name = 'seq_FUN'\n",
    "train, valid, test = initialize_dataset(dataset_name, datasets)\n",
    "\n",
    "scalar = StandardScaler().fit(train.X)\n",
    "imputer = SimpleImputer(missing_values=np.nan, strategy='mean').fit(train.X)\n",
    "train.X = scalar.transform(imputer.transform(train.X))\n",
    "valid.X = scalar.transform(imputer.transform(valid.X))\n",
    "test.X = scalar.transform(imputer.transform(test.X))\n",
    "\n",
    "train.Y = tf.convert_to_tensor(train.Y, tf.float32)\n",
    "valid.Y = tf.convert_to_tensor(valid.Y, tf.float32)\n",
    "test.Y = tf.convert_to_tensor(test.Y, tf.float32)"
   ]
  },
  {
   "cell_type": "code",
   "execution_count": 4,
   "metadata": {},
   "outputs": [],
   "source": [
    "train_data = tf.data.Dataset.from_tensor_slices(\n",
    "    (train.X, train.Y)\n",
    ").shuffle(buffer_size = train.X.shape[0]).batch(batch_size=4)"
   ]
  },
  {
   "cell_type": "code",
   "execution_count": 5,
   "metadata": {},
   "outputs": [],
   "source": [
    "def get_structure_from_adajancency(adajancency):\n",
    "    structure = np.zeros(adajancency.shape)\n",
    "    g = nx.DiGraph(adajancency) # train.A is the matrix where the direct connections are stored \n",
    "    for i in range(len(adajancency)):\n",
    "        ancestors = list(nx.descendants(g, i)) #here we need to use the function nx.descendants() because in the directed graph the edges have source from the descendant and point towards the ancestor \n",
    "        if ancestors:\n",
    "            structure[i, ancestors] = 1\n",
    "    return structure "
   ]
  },
  {
   "attachments": {},
   "cell_type": "markdown",
   "metadata": {},
   "source": [
    "# Traditional binary log loss without postprocessing"
   ]
  },
  {
   "cell_type": "code",
   "execution_count": 36,
   "metadata": {},
   "outputs": [],
   "source": [
    "dataset_name = 'seq_FUN'\n",
    "train, valid, test = initialize_dataset(dataset_name, datasets)\n",
    "structure = get_structure_from_adajancency(train.A)\n",
    "\n",
    "scalar = StandardScaler().fit(train.X)\n",
    "imputer = SimpleImputer(missing_values=np.nan, strategy='mean').fit(train.X)\n",
    "train.X = scalar.transform(imputer.transform(train.X))\n",
    "valid.X = scalar.transform(imputer.transform(valid.X))\n",
    "test.X = scalar.transform(imputer.transform(test.X))\n",
    "\n",
    "train.Y = tf.convert_to_tensor(train.Y, tf.float32)\n",
    "valid.Y = tf.convert_to_tensor(valid.Y, tf.float32)\n",
    "test.Y = tf.convert_to_tensor(test.Y, tf.float32)\n",
    "\n",
    "train_data = tf.data.Dataset.from_tensor_slices(\n",
    "    (train.X, train.Y)\n",
    ").shuffle(buffer_size = train.X.shape[0]).batch(batch_size=4)"
   ]
  },
  {
   "cell_type": "code",
   "execution_count": 81,
   "metadata": {},
   "outputs": [
    {
     "data": {
      "text/plain": [
       "<matplotlib.legend.Legend at 0x263879d9fc8>"
      ]
     },
     "execution_count": 81,
     "metadata": {},
     "output_type": "execute_result"
    },
    {
     "data": {
      "image/png": "[encoded data removed]",
      "text/plain": [
       "<Figure size 432x288 with 1 Axes>"
      ]
     },
     "metadata": {
      "needs_background": "light"
     },
     "output_type": "display_data"
    }
   ],
   "source": [
    "model = HMCModel(structure, 500, [2000,2000], 0.5)\n",
    "optimizer = tf.keras.optimizers.Adam(learning_rate=1e-4, decay=1e-5)\n",
    "\n",
    "def loss_fn(y_true, y_logits):\n",
    "    idx = tf.cast(tf.reduce_sum(y_true, axis=0) != y_true.shape[0], tf.float32) # remove root nodes\n",
    "    loss = softplus(y_logits) + (1-y_true) * y_logits\n",
    "    loss = tf.reduce_mean(loss * idx)\n",
    "    return loss \n",
    "\n",
    "def train_a_step(model, optimizer, x_batch, y_batch):\n",
    "    with tf.GradientTape() as tape:\n",
    "        logits = model(x_batch)\n",
    "        logits = model.postprocess(logits)\n",
    "        loss = loss_fn(y_batch, logits)\n",
    "        variables = model.trainable_variables\n",
    "        gradients = tape.gradient(loss, variables)\n",
    "        optimizer.apply_gradients(zip(gradients, variables))\n",
    "    return loss \n",
    "\n",
    "def train_epochs(model, optimizer, train_data, epochs):\n",
    "    steps = train.X.shape[0] // 4\n",
    "    loss_list = []\n",
    "    train_score_list = []\n",
    "    valid_score_list = []\n",
    "    test_score_list = []\n",
    "    for epoch in range(epochs):\n",
    "        loss = 0\n",
    "        for x_batch, y_batch in train_data.take(steps):\n",
    "            loss += train_a_step(model, optimizer, x_batch, y_batch)\n",
    "        loss /= steps\n",
    "        loss_list.append(loss) \n",
    "        train_score = custom_score(train.Y, model.predict(train.X))\n",
    "        valid_score = custom_score(valid.Y, model.predict(valid.X))\n",
    "        test_score = custom_score(test.Y, model.predict(test.X))\n",
    "        train_score_list.append(train_score)\n",
    "        valid_score_list.append(valid_score)\n",
    "        test_score_list.append(test_score)\n",
    "    return loss_list, train_score_list, valid_score_list, test_score_list\n",
    "\n",
    "loss_list, train_score_list, valid_score_list, test_score_list = train_epochs(model, \n",
    "                                                                              optimizer, \n",
    "                                                                              train_data, \n",
    "                                                                              10)\n",
    "plt.plot(train_score_list, '-o', label='train score')\n",
    "plt.plot(valid_score_list, '-o', label = 'valid score')\n",
    "plt.plot(test_score_list, '-o', label = 'test score')\n",
    "plt.legend()"
   ]
  },
  {
   "cell_type": "code",
   "execution_count": 82,
   "metadata": {},
   "outputs": [
    {
     "data": {
      "text/plain": [
       "[0.20376135598364287,\n",
       " 0.2331973269569434,\n",
       " 0.24991744777803332,\n",
       " 0.2578652612843171,\n",
       " 0.25109875761861733,\n",
       " 0.2517972209770777,\n",
       " 0.24604007610532352,\n",
       " 0.24949874519433574,\n",
       " 0.24008494457527307,\n",
       " 0.24540777706775901]"
      ]
     },
     "execution_count": 82,
     "metadata": {},
     "output_type": "execute_result"
    }
   ],
   "source": [
    "test_score_list"
   ]
  },
  {
   "attachments": {},
   "cell_type": "markdown",
   "metadata": {},
   "source": [
    "# Postprocessing and MCM loss"
   ]
  },
  {
   "cell_type": "code",
   "execution_count": 36,
   "metadata": {},
   "outputs": [
    {
     "data": {
      "text/plain": [
       "<matplotlib.legend.Legend at 0x18d4b3e6ac8>"
      ]
     },
     "execution_count": 36,
     "metadata": {},
     "output_type": "execute_result"
    },
    {
     "data": {
      "image/png": "[encoded data removed]",
      "text/plain": [
       "<Figure size 432x288 with 1 Axes>"
      ]
     },
     "metadata": {
      "needs_background": "light"
     },
     "output_type": "display_data"
    }
   ],
   "source": [
    "structure = get_structure_from_adajancency(train.A)\n",
    "model = HMCModel(structure, 500, [2000,2000], 0.7)\n",
    "optimizer = tf.keras.optimizers.Adam(learning_rate=1e-4, decay=1e-5)\n",
    "\n",
    "def mylog(x):\n",
    "    x = tf.where(x < 1e-20, 1e-20, x)\n",
    "    return tf.math.log(x)\n",
    "\n",
    "def cross_y_log(y,prob):\n",
    "    ''' return y * log(prob), to avoid 0 * log(0)'''\n",
    "    r = tf.where(y != 0, y * mylog(prob), 0)\n",
    "    return r \n",
    "\n",
    "def mymax(prob, structure):\n",
    "    '''structure[i,j] = 1 iff i is a subclass of j, structure[i,i]=0 holds true for all i'''\n",
    "    structure = (structure + np.eye(structure.shape[0])).astype(np.int32)\n",
    "    prob1 = list()\n",
    "    for i in range(structure.shape[0]):\n",
    "        col_max = tf.reduce_max(prob * structure[:,i], axis=1, keepdims=True)\n",
    "        prob1.append(col_max)\n",
    "    return tf.concat(prob1, axis=1)\n",
    "\n",
    "def loss_fn(y_true, y_logits, structure):\n",
    "    idx = tf.cast(tf.reduce_sum(y_true, axis=0) != y_true.shape[0], tf.float32) # remove root nodes\n",
    "    prob = tf.nn.sigmoid(y_logits)\n",
    "    part1 = - y_true * mylog(mymax(prob * y_true, structure))\n",
    "    part2 = - (1-y_true) * mylog(1 - mymax(prob, structure))\n",
    "    loss = part1 + part2\n",
    "    loss = tf.reduce_mean(loss * idx)\n",
    "    return loss \n",
    "\n",
    "def train_a_step(model, optimizer, x_batch, y_batch, structure):\n",
    "    with tf.GradientTape() as tape:\n",
    "        logits = model(x_batch)\n",
    "        loss = loss_fn(y_batch, logits, structure)\n",
    "        variables = model.trainable_variables\n",
    "        gradients = tape.gradient(loss, variables)\n",
    "        optimizer.apply_gradients(zip(gradients, variables))\n",
    "    return loss \n",
    "\n",
    "def train_epochs(model, optimizer, train_data, epochs, structure):\n",
    "    steps = train.X.shape[0] // 4\n",
    "    loss_list = []\n",
    "    train_score_list = []\n",
    "    valid_score_list = []\n",
    "    test_score_list = []\n",
    "    for epoch in range(epochs):\n",
    "        loss = 0\n",
    "        for x_batch, y_batch in train_data.take(steps):\n",
    "            loss += train_a_step(model, optimizer, x_batch, y_batch, structure)\n",
    "        loss /= steps\n",
    "        loss_list.append(loss) \n",
    "        train_score = custom_score(train.Y, model.predict(train.X))\n",
    "        valid_score = custom_score(valid.Y, model.predict(valid.X))\n",
    "        test_score = custom_score(test.Y, model.predict(test.X))\n",
    "        train_score_list.append(train_score)\n",
    "        valid_score_list.append(valid_score)\n",
    "        test_score_list.append(test_score)\n",
    "    return loss_list, train_score_list, valid_score_list, test_score_list\n",
    "\n",
    "loss_list, train_score_list, valid_score_list, test_score_list = train_epochs(model, \n",
    "                                                                              optimizer, \n",
    "                                                                              train_data, \n",
    "                                                                              10,\n",
    "                                                                              structure)\n",
    "plt.plot(train_score_list, '-o', label='train score')\n",
    "plt.plot(valid_score_list, '-o', label = 'valid score')\n",
    "plt.plot(test_score_list, '-o', label = 'test score')\n",
    "plt.legend()"
   ]
  },
  {
   "cell_type": "code",
   "execution_count": 37,
   "metadata": {},
   "outputs": [
    {
     "data": {
      "text/plain": [
       "[0.20034641135949965,\n",
       " 0.24136977547977842,\n",
       " 0.2554822080575448,\n",
       " 0.2615624878662833,\n",
       " 0.2609673432694759,\n",
       " 0.2624079148175541,\n",
       " 0.26202366752261275,\n",
       " 0.25454564951583825,\n",
       " 0.25060172788925117,\n",
       " 0.25048951514750734]"
      ]
     },
     "execution_count": 37,
     "metadata": {},
     "output_type": "execute_result"
    }
   ],
   "source": [
    "valid_score_list"
   ]
  }
 ],
 "metadata": {
  "kernelspec": {
   "display_name": "tf",
   "language": "python",
   "name": "python3"
  },
  "language_info": {
   "codemirror_mode": {
    "name": "ipython",
    "version": 3
   },
   "file_extension": ".py",
   "mimetype": "text/x-python",
   "name": "python",
   "nbconvert_exporter": "python",
   "pygments_lexer": "ipython3",
   "version": "3.7.13"
  },
  "orig_nbformat": 4,
  "vscode": {
   "interpreter": {
    "hash": "9d1df8a9c631c41e95662a04b9faaa5fcedaf5ec92d88d24f4a9901426a87932"
   }
  }
 },
 "nbformat": 4,
 "nbformat_minor": 2
}
