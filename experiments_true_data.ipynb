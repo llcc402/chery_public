{
 "cells": [
  {
   "cell_type": "code",
   "execution_count": 196,
   "metadata": {},
   "outputs": [],
   "source": [
    "from utils import datasets\n",
    "from utils.parser import * \n",
    "import os \n",
    "import numpy as np \n",
    "from sklearn.preprocessing import StandardScaler\n",
    "from sklearn.impute import SimpleImputer\n",
    "import tensorflow as tf \n",
    "from models import * \n",
    "from utilities import *\n",
    "from train_model_utilities import * \n",
    "import networkx as nx \n",
    "import tensorflow_addons as tfa \n",
    "os.environ[\"KMP_DUPLICATE_LIB_OK\"]=\"TRUE\""
   ]
  },
  {
   "cell_type": "code",
   "execution_count": 192,
   "metadata": {},
   "outputs": [],
   "source": [
    "def get_structure_from_adajancency(adajancency):\n",
    "    structure = np.zeros(adajancency.shape)\n",
    "    g = nx.DiGraph(adajancency) # train.A is the matrix where the direct connections are stored \n",
    "    for i in range(len(adajancency)):\n",
    "        ancestors = list(nx.descendants(g, i)) #here we need to use the function nx.descendants() because in the directed graph the edges have source from the descendant and point towards the ancestor \n",
    "        if ancestors:\n",
    "            structure[i, ancestors] = 1\n",
    "    return structure \n",
    "\n",
    "def mymax1(prob, structure):\n",
    "    structure = (structure + np.eye(structure.shape[0])).astype(np.float32)\n",
    "    structure = structure[np.newaxis,:,:]\n",
    "    prob = prob[:,:,tf.newaxis]\n",
    "    prob1 = tf.reduce_max(prob * structure, axis=1)\n",
    "    return prob1"
   ]
  },
  {
   "cell_type": "code",
   "execution_count": 116,
   "metadata": {},
   "outputs": [],
   "source": [
    "dataset_name = 'seq_FUN'\n",
    "train, valid, test = initialize_dataset(dataset_name, datasets)\n",
    "structure = get_structure_from_adajancency(train.A)\n",
    "\n",
    "scalar = StandardScaler().fit(train.X)\n",
    "imputer = SimpleImputer(missing_values=np.nan, strategy='mean').fit(train.X)\n",
    "train.X = scalar.transform(imputer.transform(train.X))\n",
    "valid.X = scalar.transform(imputer.transform(valid.X))\n",
    "test.X = scalar.transform(imputer.transform(test.X))\n",
    "\n",
    "train.Y = tf.convert_to_tensor(train.Y, tf.float32)\n",
    "valid.Y = tf.convert_to_tensor(valid.Y, tf.float32)\n",
    "test.Y = tf.convert_to_tensor(test.Y, tf.float32)\n",
    "\n",
    "train_data = tf.data.Dataset.from_tensor_slices(\n",
    "    (tf.concat([train.X, valid.X],axis=0), tf.concat([train.Y, valid.Y],axis=0))\n",
    ").shuffle(buffer_size = (train.X.shape[0]+valid.X.shape[0])).batch(batch_size=4)"
   ]
  },
  {
   "attachments": {},
   "cell_type": "markdown",
   "metadata": {},
   "source": [
    "# Traditional binary log loss without postprocessing"
   ]
  },
  {
   "cell_type": "code",
   "execution_count": 117,
   "metadata": {},
   "outputs": [
    {
     "data": {
      "text/plain": [
       "<matplotlib.legend.Legend at 0x1d00d250e88>"
      ]
     },
     "execution_count": 117,
     "metadata": {},
     "output_type": "execute_result"
    },
    {
     "data": {
      "image/png": "[encoded data removed]",
      "text/plain": [
       "<Figure size 432x288 with 1 Axes>"
      ]
     },
     "metadata": {
      "needs_background": "light"
     },
     "output_type": "display_data"
    }
   ],
   "source": [
    "model = HMCModel(structure, 500, [2000,500], 0.5)\n",
    "optimizer = tf.keras.optimizers.Adam(learning_rate=1e-4, decay=1e-5)\n",
    "\n",
    "def loss_fn(y_true, y_logits):\n",
    "    idx = tf.cast(tf.reduce_sum(y_true, axis=0) != y_true.shape[0], tf.float32) # remove root nodes\n",
    "    loss = softplus(y_logits) + (1-y_true) * y_logits\n",
    "    loss = tf.reduce_mean(loss * idx)\n",
    "    return loss \n",
    "\n",
    "def train_a_step(model, optimizer, x_batch, y_batch):\n",
    "    with tf.GradientTape() as tape:\n",
    "        logits = model(x_batch)\n",
    "        logits = model.postprocess(logits)\n",
    "        loss = loss_fn(y_batch, logits)\n",
    "        variables = model.trainable_variables\n",
    "        gradients = tape.gradient(loss, variables)\n",
    "        optimizer.apply_gradients(zip(gradients, variables))\n",
    "    return loss \n",
    "\n",
    "def train_epochs(model, optimizer, train_data, epochs):\n",
    "    steps = train.X.shape[0] // 4\n",
    "    loss_list = []\n",
    "    train_score_list = []\n",
    "    valid_score_list = []\n",
    "    test_score_list = []\n",
    "    for epoch in range(epochs):\n",
    "        loss = 0\n",
    "        for x_batch, y_batch in train_data.take(steps):\n",
    "            loss += train_a_step(model, optimizer, x_batch, y_batch)\n",
    "        loss /= steps\n",
    "        loss_list.append(loss) \n",
    "        train_score = custom_score(train.Y, model.predict(train.X))\n",
    "        valid_score = custom_score(valid.Y, model.predict(valid.X))\n",
    "        test_score = custom_score(test.Y, model.predict(test.X))\n",
    "        train_score_list.append(train_score)\n",
    "        valid_score_list.append(valid_score)\n",
    "        test_score_list.append(test_score)\n",
    "    return loss_list, train_score_list, valid_score_list, test_score_list\n",
    "\n",
    "loss_list, train_score_list, valid_score_list, test_score_list = train_epochs(model, \n",
    "                                                                              optimizer, \n",
    "                                                                              train_data, \n",
    "                                                                              10)\n",
    "plt.plot(train_score_list, '-o', label='train score')\n",
    "plt.plot(valid_score_list, '-o', label = 'valid score')\n",
    "plt.plot(test_score_list, '-o', label = 'test score')\n",
    "plt.legend()"
   ]
  },
  {
   "cell_type": "code",
   "execution_count": 118,
   "metadata": {},
   "outputs": [
    {
     "data": {
      "text/plain": [
       "[0.19067685503404092,\n",
       " 0.2346708920904348,\n",
       " 0.24839293269397145,\n",
       " 0.26019783870301805,\n",
       " 0.26886834113803537,\n",
       " 0.2718797434629962,\n",
       " 0.2717309799896801,\n",
       " 0.2731352417744636,\n",
       " 0.278052481707452,\n",
       " 0.27588343281482286]"
      ]
     },
     "execution_count": 118,
     "metadata": {},
     "output_type": "execute_result"
    }
   ],
   "source": [
    "test_score_list"
   ]
  },
  {
   "attachments": {},
   "cell_type": "markdown",
   "metadata": {},
   "source": [
    "# Postprocessing and MCM loss"
   ]
  },
  {
   "cell_type": "code",
   "execution_count": 193,
   "metadata": {},
   "outputs": [],
   "source": [
    "class HMCModel(tf.keras.models.Model):\n",
    "    def __init__(self, structure, num_classes, hid_dim_list, dropout):\n",
    "        ''' \n",
    "        INPUT \n",
    "            structure           np.array, [M,M]\n",
    "            num_classes         integer, M = num_classes\n",
    "            hid_dim_list        a list of integers\n",
    "        '''\n",
    "        super(HMCModel, self).__init__()\n",
    "        self.structure = structure\n",
    "        self.num_hid_layers = len(hid_dim_list)\n",
    "        \n",
    "        self.W1 = list()\n",
    "        self.dropout = tf.keras.layers.Dropout(dropout)\n",
    "        for i in range(len(hid_dim_list)):\n",
    "            self.W1.append(tf.keras.layers.Dense(hid_dim_list[i], activation='relu'))\n",
    "        self.W2 = tf.keras.layers.Dense(num_classes, activation='sigmoid')\n",
    "        \n",
    "    def call(self, inputs):\n",
    "        x = self.W1[0](inputs)\n",
    "        for i in range(1, self.num_hid_layers):\n",
    "            x = self.W1[i](x)\n",
    "            x = self.dropout(x)\n",
    "        outputs = self.W2(x)\n",
    "        return outputs\n",
    "    \n",
    "    def postprocess(self, inputs):\n",
    "        return mymax1(inputs, self.structure)\n",
    "    \n",
    "    def predict(self, inputs):\n",
    "        prob = self.call(inputs)\n",
    "        prob = mymax1(prob, self.structure)\n",
    "        return prob"
   ]
  },
  {
   "cell_type": "code",
   "execution_count": 212,
   "metadata": {},
   "outputs": [
    {
     "data": {
      "text/plain": [
       "<matplotlib.legend.Legend at 0x1d00f9066c8>"
      ]
     },
     "execution_count": 212,
     "metadata": {},
     "output_type": "execute_result"
    },
    {
     "data": {
      "image/png": "[encoded data removed]",
      "text/plain": [
       "<Figure size 432x288 with 1 Axes>"
      ]
     },
     "metadata": {
      "needs_background": "light"
     },
     "output_type": "display_data"
    }
   ],
   "source": [
    "model = HMCModel(structure, 500, [2000,2000], 0.7)\n",
    "optimizer = tf.optimizers.Adam(learning_rate=1e-4, decay=1e-5)\n",
    "\n",
    "def mylog(x):\n",
    "    x = tf.where(x < 1e-30, 1e-30, x)\n",
    "    return tf.math.log(x)\n",
    "\n",
    "def cross_y_log(y,prob):\n",
    "    ''' return y * log(prob), to avoid 0 * log(0)'''\n",
    "    r = tf.where(y != 0, y * mylog(prob), 0)\n",
    "    return r \n",
    "\n",
    "def loss_fn(y_true, y_logits, structure):\n",
    "    idx = tf.cast(tf.reduce_sum(y_true, axis=0) != y_true.shape[0], tf.float32) # remove root nodes\n",
    "    prob = tf.nn.sigmoid(y_logits)\n",
    "    part1 = - y_true * mylog(mymax1(prob * y_true, structure))\n",
    "    part2 = - (1-y_true) * mylog(1 - mymax1(prob, structure))\n",
    "    loss = part1 + part2\n",
    "    loss = tf.reduce_mean(loss * idx)\n",
    "    return loss \n",
    "\n",
    "def loss_fn_funny(y_true, prob, structure):\n",
    "    idx = tf.squeeze(tf.where(tf.reduce_sum(y_true, axis=0) != y_true.shape[0])) # remove root nodes\n",
    "    c_out = mymax1(prob, structure)\n",
    "    t_out = y_true * prob\n",
    "    t_out = mymax1(t_out, structure)\n",
    "    t_out = (1-y_true) * c_out + y_true * t_out\n",
    "    y_true1 = tf.gather(y_true, idx, axis=1)\n",
    "    t_out1 = tf.gather(t_out, idx, axis=1)\n",
    "    loss = tf.losses.BinaryCrossentropy(from_logits=False)(\n",
    "        y_true1, t_out1\n",
    "    )\n",
    "    return loss\n",
    "\n",
    "def train_a_step(model, optimizer, x_batch, y_batch, structure):\n",
    "    with tf.GradientTape() as tape:\n",
    "        prob = model(x_batch)\n",
    "        loss = loss_fn_funny(y_batch, prob, structure)\n",
    "        variables = model.trainable_variables\n",
    "        gradients = tape.gradient(loss, variables)\n",
    "        optimizer.apply_gradients(zip(gradients, variables))\n",
    "    return loss \n",
    "\n",
    "def train_epochs(model, optimizer, train_data, epochs, structure):\n",
    "    steps = (train.X.shape[0]+valid.X.shape[0]) // 4\n",
    "    loss_list = []\n",
    "    train_score_list = []\n",
    "    valid_score_list = []\n",
    "    test_score_list = []\n",
    "    for epoch in range(epochs):\n",
    "        loss = 0\n",
    "        for x_batch, y_batch in train_data.take(steps):\n",
    "            loss += train_a_step(model, optimizer, x_batch, y_batch, structure)\n",
    "        loss /= steps\n",
    "        loss_list.append(loss) \n",
    "        train_score = custom_score(train.Y, model.predict(train.X))\n",
    "        valid_score = custom_score(valid.Y, model.predict(valid.X))\n",
    "        test_score = custom_score(test.Y, model.predict(test.X))\n",
    "        train_score_list.append(train_score)\n",
    "        valid_score_list.append(valid_score)\n",
    "        test_score_list.append(test_score)\n",
    "    return loss_list, train_score_list, valid_score_list, test_score_list\n",
    "\n",
    "loss_list, train_score_list, valid_score_list, test_score_list = train_epochs(model, \n",
    "                                                                              optimizer, \n",
    "                                                                              train_data, \n",
    "                                                                              15,\n",
    "                                                                              structure)\n",
    "plt.plot(train_score_list, '-o', label='train score')\n",
    "plt.plot(valid_score_list, '-o', label = 'valid score')\n",
    "plt.plot(test_score_list, '-o', label = 'test score')\n",
    "plt.legend()"
   ]
  },
  {
   "cell_type": "code",
   "execution_count": 213,
   "metadata": {},
   "outputs": [
    {
     "data": {
      "text/plain": [
       "[0.1112721392041935,\n",
       " 0.08420827000879846,\n",
       " 0.09473276946519452,\n",
       " 0.10750469688100672,\n",
       " 0.09246146007298425,\n",
       " 0.08933771499358091,\n",
       " 0.09100676139155822,\n",
       " 0.0857508703180666,\n",
       " 0.08213950020501894,\n",
       " 0.08464414342223131,\n",
       " 0.08421734369769798,\n",
       " 0.08672958340189765,\n",
       " 0.06681709291611942,\n",
       " 0.06636197846747274,\n",
       " 0.06297026544479888]"
      ]
     },
     "execution_count": 213,
     "metadata": {},
     "output_type": "execute_result"
    }
   ],
   "source": [
    "test_score_list"
   ]
  }
 ],
 "metadata": {
  "kernelspec": {
   "display_name": "tf",
   "language": "python",
   "name": "python3"
  },
  "language_info": {
   "codemirror_mode": {
    "name": "ipython",
    "version": 3
   },
   "file_extension": ".py",
   "mimetype": "text/x-python",
   "name": "python",
   "nbconvert_exporter": "python",
   "pygments_lexer": "ipython3",
   "version": "3.7.13"
  },
  "orig_nbformat": 4,
  "vscode": {
   "interpreter": {
    "hash": "9d1df8a9c631c41e95662a04b9faaa5fcedaf5ec92d88d24f4a9901426a87932"
   }
  }
 },
 "nbformat": 4,
 "nbformat_minor": 2
}
