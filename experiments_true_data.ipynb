{
 "cells": [
  {
   "cell_type": "code",
   "execution_count": 1,
   "metadata": {},
   "outputs": [],
   "source": [
    "from utils import datasets\n",
    "from utils.parser import * \n",
    "import os \n",
    "import numpy as np \n",
    "from sklearn.preprocessing import StandardScaler\n",
    "from sklearn.impute import SimpleImputer\n",
    "import tensorflow as tf \n",
    "from models import * \n",
    "from utilities import *\n",
    "from train_model_utilities import * \n",
    "import networkx as nx \n",
    "import tensorflow_addons as tfa \n",
    "os.environ[\"KMP_DUPLICATE_LIB_OK\"]=\"TRUE\""
   ]
  },
  {
   "cell_type": "code",
   "execution_count": 2,
   "metadata": {},
   "outputs": [],
   "source": [
    "def get_structure_from_adajancency(adajancency):\n",
    "    structure = np.zeros(adajancency.shape)\n",
    "    g = nx.DiGraph(adajancency) # train.A is the matrix where the direct connections are stored \n",
    "    for i in range(len(adajancency)):\n",
    "        ancestors = list(nx.descendants(g, i)) #here we need to use the function nx.descendants() because in the directed graph the edges have source from the descendant and point towards the ancestor \n",
    "        if ancestors:\n",
    "            structure[i, ancestors] = 1\n",
    "    return structure \n",
    "\n",
    "def mymax1(prob, structure):\n",
    "    structure = (structure + np.eye(structure.shape[0])).astype(np.float32)\n",
    "    structure = structure[np.newaxis,:,:]\n",
    "    prob = prob[:,:,tf.newaxis]\n",
    "    prob1 = tf.reduce_max(prob * structure, axis=1)\n",
    "    return prob1"
   ]
  },
  {
   "cell_type": "code",
   "execution_count": 3,
   "metadata": {},
   "outputs": [],
   "source": [
    "dataset_name = 'seq_FUN'\n",
    "train, valid, test = initialize_dataset(dataset_name, datasets)\n",
    "structure = get_structure_from_adajancency(train.A)\n",
    "\n",
    "scalar = StandardScaler().fit(train.X)\n",
    "imputer = SimpleImputer(missing_values=np.nan, strategy='mean').fit(train.X)\n",
    "train.X = scalar.transform(imputer.transform(train.X))\n",
    "valid.X = scalar.transform(imputer.transform(valid.X))\n",
    "test.X = scalar.transform(imputer.transform(test.X))\n",
    "\n",
    "train.Y = tf.convert_to_tensor(train.Y, tf.float32)\n",
    "valid.Y = tf.convert_to_tensor(valid.Y, tf.float32)\n",
    "test.Y = tf.convert_to_tensor(test.Y, tf.float32)\n",
    "\n",
    "train_data = tf.data.Dataset.from_tensor_slices(\n",
    "    (tf.concat([train.X, valid.X],axis=0), tf.concat([train.Y, valid.Y],axis=0))\n",
    ").shuffle(buffer_size = (train.X.shape[0]+valid.X.shape[0])).batch(batch_size=4)"
   ]
  },
  {
   "attachments": {},
   "cell_type": "markdown",
   "metadata": {},
   "source": [
    "# Traditional binary log loss without postprocessing"
   ]
  },
  {
   "cell_type": "code",
   "execution_count": 4,
   "metadata": {},
   "outputs": [
    {
     "data": {
      "text/plain": [
       "<matplotlib.legend.Legend at 0x1eebf35c948>"
      ]
     },
     "execution_count": 4,
     "metadata": {},
     "output_type": "execute_result"
    },
    {
     "data": {
      "image/png": "[encoded data removed]",
      "text/plain": [
       "<Figure size 432x288 with 1 Axes>"
      ]
     },
     "metadata": {
      "needs_background": "light"
     },
     "output_type": "display_data"
    }
   ],
   "source": [
    "model = HMCModel(structure, 500, [2000,500], 0.7)\n",
    "optimizer = tf.keras.optimizers.Adam(learning_rate=1e-4, decay=1e-5)\n",
    "\n",
    "def loss_fn(y_true, y_logits):\n",
    "    idx = tf.cast(tf.reduce_sum(y_true, axis=0) != y_true.shape[0], tf.float32) # remove root nodes\n",
    "    loss = softplus(y_logits) + (1-y_true) * y_logits\n",
    "    loss = tf.reduce_mean(loss * idx)\n",
    "    return loss \n",
    "\n",
    "def train_a_step(model, optimizer, x_batch, y_batch):\n",
    "    with tf.GradientTape() as tape:\n",
    "        logits = model(x_batch)\n",
    "        logits = model.postprocess(logits)\n",
    "        loss = loss_fn(y_batch, logits)\n",
    "        variables = model.trainable_variables\n",
    "        gradients = tape.gradient(loss, variables)\n",
    "        optimizer.apply_gradients(zip(gradients, variables))\n",
    "    return loss \n",
    "\n",
    "def train_epochs(model, optimizer, train_data, epochs):\n",
    "    steps = (train.X.shape[0]+valid.X.shape[0]) // 4\n",
    "    loss_list = []\n",
    "    train_score_list = []\n",
    "    valid_score_list = []\n",
    "    test_score_list = []\n",
    "    for epoch in range(epochs):\n",
    "        loss = 0\n",
    "        for x_batch, y_batch in train_data.take(steps):\n",
    "            loss += train_a_step(model, optimizer, x_batch, y_batch)\n",
    "        loss /= steps\n",
    "        loss_list.append(loss) \n",
    "        train_score = custom_score(train.Y, model.predict(train.X))\n",
    "        valid_score = custom_score(valid.Y, model.predict(valid.X))\n",
    "        test_score = custom_score(test.Y, model.predict(test.X))\n",
    "        train_score_list.append(train_score)\n",
    "        valid_score_list.append(valid_score)\n",
    "        test_score_list.append(test_score)\n",
    "    return loss_list, train_score_list, valid_score_list, test_score_list\n",
    "\n",
    "loss_list, train_score_list, valid_score_list, test_score_list = train_epochs(model, \n",
    "                                                                              optimizer, \n",
    "                                                                              train_data, \n",
    "                                                                              15)\n",
    "plt.plot(train_score_list, '-o', label='train score')\n",
    "plt.plot(valid_score_list, '-o', label = 'valid score')\n",
    "plt.plot(test_score_list, '-o', label = 'test score')\n",
    "plt.legend()"
   ]
  },
  {
   "cell_type": "code",
   "execution_count": 5,
   "metadata": {},
   "outputs": [
    {
     "data": {
      "text/plain": [
       "[0.21445563122896474,\n",
       " 0.25793517855536163,\n",
       " 0.26732263007566703,\n",
       " 0.27185238532370015,\n",
       " 0.2788768358789615,\n",
       " 0.2742052297411498,\n",
       " 0.27554588087724924,\n",
       " 0.2762122329570255,\n",
       " 0.2689075458287449,\n",
       " 0.26802304423756684,\n",
       " 0.2674554765856307,\n",
       " 0.2670121124532072,\n",
       " 0.2645481266059104,\n",
       " 0.262197481573126,\n",
       " 0.26152579917750635]"
      ]
     },
     "execution_count": 5,
     "metadata": {},
     "output_type": "execute_result"
    }
   ],
   "source": [
    "test_score_list"
   ]
  },
  {
   "attachments": {},
   "cell_type": "markdown",
   "metadata": {},
   "source": [
    "# Postprocessing and MCM loss"
   ]
  },
  {
   "cell_type": "code",
   "execution_count": 15,
   "metadata": {},
   "outputs": [
    {
     "ename": "KeyboardInterrupt",
     "evalue": "",
     "output_type": "error",
     "traceback": [
      "\u001b[1;31m---------------------------------------------------------------------------\u001b[0m",
      "\u001b[1;31mKeyboardInterrupt\u001b[0m                         Traceback (most recent call last)",
      "\u001b[1;32m~\\AppData\\Local\\Temp\\ipykernel_9824\\4287645430.py\u001b[0m in \u001b[0;36m<module>\u001b[1;34m\u001b[0m\n\u001b[0;32m     67\u001b[0m                                                                               \u001b[0mtrain_data\u001b[0m\u001b[1;33m,\u001b[0m\u001b[1;33m\u001b[0m\u001b[1;33m\u001b[0m\u001b[0m\n\u001b[0;32m     68\u001b[0m                                                                               \u001b[1;36m30\u001b[0m\u001b[1;33m,\u001b[0m\u001b[1;33m\u001b[0m\u001b[1;33m\u001b[0m\u001b[0m\n\u001b[1;32m---> 69\u001b[1;33m                                                                               structure)\n\u001b[0m\u001b[0;32m     70\u001b[0m \u001b[0mplt\u001b[0m\u001b[1;33m.\u001b[0m\u001b[0mplot\u001b[0m\u001b[1;33m(\u001b[0m\u001b[0mtrain_score_list\u001b[0m\u001b[1;33m,\u001b[0m \u001b[1;34m'-o'\u001b[0m\u001b[1;33m,\u001b[0m \u001b[0mlabel\u001b[0m\u001b[1;33m=\u001b[0m\u001b[1;34m'train score'\u001b[0m\u001b[1;33m)\u001b[0m\u001b[1;33m\u001b[0m\u001b[1;33m\u001b[0m\u001b[0m\n\u001b[0;32m     71\u001b[0m \u001b[0mplt\u001b[0m\u001b[1;33m.\u001b[0m\u001b[0mplot\u001b[0m\u001b[1;33m(\u001b[0m\u001b[0mvalid_score_list\u001b[0m\u001b[1;33m,\u001b[0m \u001b[1;34m'-o'\u001b[0m\u001b[1;33m,\u001b[0m \u001b[0mlabel\u001b[0m \u001b[1;33m=\u001b[0m \u001b[1;34m'valid score'\u001b[0m\u001b[1;33m)\u001b[0m\u001b[1;33m\u001b[0m\u001b[1;33m\u001b[0m\u001b[0m\n",
      "\u001b[1;32m~\\AppData\\Local\\Temp\\ipykernel_9824\\4287645430.py\u001b[0m in \u001b[0;36mtrain_epochs\u001b[1;34m(model, optimizer, train_data, epochs, structure)\u001b[0m\n\u001b[0;32m     52\u001b[0m         \u001b[0mloss\u001b[0m \u001b[1;33m=\u001b[0m \u001b[1;36m0\u001b[0m\u001b[1;33m\u001b[0m\u001b[1;33m\u001b[0m\u001b[0m\n\u001b[0;32m     53\u001b[0m         \u001b[1;32mfor\u001b[0m \u001b[0mx_batch\u001b[0m\u001b[1;33m,\u001b[0m \u001b[0my_batch\u001b[0m \u001b[1;32min\u001b[0m \u001b[0mtrain_data\u001b[0m\u001b[1;33m.\u001b[0m\u001b[0mtake\u001b[0m\u001b[1;33m(\u001b[0m\u001b[0msteps\u001b[0m\u001b[1;33m)\u001b[0m\u001b[1;33m:\u001b[0m\u001b[1;33m\u001b[0m\u001b[1;33m\u001b[0m\u001b[0m\n\u001b[1;32m---> 54\u001b[1;33m             \u001b[0mloss\u001b[0m \u001b[1;33m+=\u001b[0m \u001b[0mtrain_a_step\u001b[0m\u001b[1;33m(\u001b[0m\u001b[0mmodel\u001b[0m\u001b[1;33m,\u001b[0m \u001b[0moptimizer\u001b[0m\u001b[1;33m,\u001b[0m \u001b[0mx_batch\u001b[0m\u001b[1;33m,\u001b[0m \u001b[0my_batch\u001b[0m\u001b[1;33m,\u001b[0m \u001b[0mstructure\u001b[0m\u001b[1;33m)\u001b[0m\u001b[1;33m\u001b[0m\u001b[1;33m\u001b[0m\u001b[0m\n\u001b[0m\u001b[0;32m     55\u001b[0m         \u001b[0mloss\u001b[0m \u001b[1;33m/=\u001b[0m \u001b[0msteps\u001b[0m\u001b[1;33m\u001b[0m\u001b[1;33m\u001b[0m\u001b[0m\n\u001b[0;32m     56\u001b[0m         \u001b[0mloss_list\u001b[0m\u001b[1;33m.\u001b[0m\u001b[0mappend\u001b[0m\u001b[1;33m(\u001b[0m\u001b[0mloss\u001b[0m\u001b[1;33m)\u001b[0m\u001b[1;33m\u001b[0m\u001b[1;33m\u001b[0m\u001b[0m\n",
      "\u001b[1;32m~\\AppData\\Local\\Temp\\ipykernel_9824\\4287645430.py\u001b[0m in \u001b[0;36mtrain_a_step\u001b[1;34m(model, optimizer, x_batch, y_batch, structure)\u001b[0m\n\u001b[0;32m     37\u001b[0m     \u001b[1;32mwith\u001b[0m \u001b[0mtf\u001b[0m\u001b[1;33m.\u001b[0m\u001b[0mGradientTape\u001b[0m\u001b[1;33m(\u001b[0m\u001b[1;33m)\u001b[0m \u001b[1;32mas\u001b[0m \u001b[0mtape\u001b[0m\u001b[1;33m:\u001b[0m\u001b[1;33m\u001b[0m\u001b[1;33m\u001b[0m\u001b[0m\n\u001b[0;32m     38\u001b[0m         \u001b[0mlogits\u001b[0m \u001b[1;33m=\u001b[0m \u001b[0mmodel\u001b[0m\u001b[1;33m(\u001b[0m\u001b[0mx_batch\u001b[0m\u001b[1;33m)\u001b[0m\u001b[1;33m\u001b[0m\u001b[1;33m\u001b[0m\u001b[0m\n\u001b[1;32m---> 39\u001b[1;33m         \u001b[0mloss\u001b[0m \u001b[1;33m=\u001b[0m \u001b[0mloss_fn_funny\u001b[0m\u001b[1;33m(\u001b[0m\u001b[0my_batch\u001b[0m\u001b[1;33m,\u001b[0m \u001b[0mlogits\u001b[0m\u001b[1;33m,\u001b[0m \u001b[0mstructure\u001b[0m\u001b[1;33m)\u001b[0m\u001b[1;33m\u001b[0m\u001b[1;33m\u001b[0m\u001b[0m\n\u001b[0m\u001b[0;32m     40\u001b[0m         \u001b[0mvariables\u001b[0m \u001b[1;33m=\u001b[0m \u001b[0mmodel\u001b[0m\u001b[1;33m.\u001b[0m\u001b[0mtrainable_variables\u001b[0m\u001b[1;33m\u001b[0m\u001b[1;33m\u001b[0m\u001b[0m\n\u001b[0;32m     41\u001b[0m         \u001b[0mgradients\u001b[0m \u001b[1;33m=\u001b[0m \u001b[0mtape\u001b[0m\u001b[1;33m.\u001b[0m\u001b[0mgradient\u001b[0m\u001b[1;33m(\u001b[0m\u001b[0mloss\u001b[0m\u001b[1;33m,\u001b[0m \u001b[0mvariables\u001b[0m\u001b[1;33m)\u001b[0m\u001b[1;33m\u001b[0m\u001b[1;33m\u001b[0m\u001b[0m\n",
      "\u001b[1;32m~\\AppData\\Local\\Temp\\ipykernel_9824\\4287645430.py\u001b[0m in \u001b[0;36mloss_fn_funny\u001b[1;34m(y_true, y_logits, structure)\u001b[0m\n\u001b[0;32m     25\u001b[0m     \u001b[0mc_out\u001b[0m \u001b[1;33m=\u001b[0m \u001b[0mmymax1\u001b[0m\u001b[1;33m(\u001b[0m\u001b[0mprob\u001b[0m\u001b[1;33m,\u001b[0m \u001b[0mstructure\u001b[0m\u001b[1;33m)\u001b[0m\u001b[1;33m\u001b[0m\u001b[1;33m\u001b[0m\u001b[0m\n\u001b[0;32m     26\u001b[0m     \u001b[0mt_out\u001b[0m \u001b[1;33m=\u001b[0m \u001b[0my_true\u001b[0m \u001b[1;33m*\u001b[0m \u001b[0mprob\u001b[0m\u001b[1;33m\u001b[0m\u001b[1;33m\u001b[0m\u001b[0m\n\u001b[1;32m---> 27\u001b[1;33m     \u001b[0mt_out\u001b[0m \u001b[1;33m=\u001b[0m \u001b[0mmymax1\u001b[0m\u001b[1;33m(\u001b[0m\u001b[0mt_out\u001b[0m\u001b[1;33m,\u001b[0m \u001b[0mstructure\u001b[0m\u001b[1;33m)\u001b[0m\u001b[1;33m\u001b[0m\u001b[1;33m\u001b[0m\u001b[0m\n\u001b[0m\u001b[0;32m     28\u001b[0m     \u001b[0mt_out\u001b[0m \u001b[1;33m=\u001b[0m \u001b[1;33m(\u001b[0m\u001b[1;36m1\u001b[0m\u001b[1;33m-\u001b[0m\u001b[0my_true\u001b[0m\u001b[1;33m)\u001b[0m \u001b[1;33m*\u001b[0m \u001b[0mc_out\u001b[0m \u001b[1;33m+\u001b[0m \u001b[0my_true\u001b[0m \u001b[1;33m*\u001b[0m \u001b[0mt_out\u001b[0m\u001b[1;33m\u001b[0m\u001b[1;33m\u001b[0m\u001b[0m\n\u001b[0;32m     29\u001b[0m     \u001b[0my_true1\u001b[0m \u001b[1;33m=\u001b[0m \u001b[0mtf\u001b[0m\u001b[1;33m.\u001b[0m\u001b[0mgather\u001b[0m\u001b[1;33m(\u001b[0m\u001b[0my_true\u001b[0m\u001b[1;33m,\u001b[0m \u001b[0midx\u001b[0m\u001b[1;33m,\u001b[0m \u001b[0maxis\u001b[0m\u001b[1;33m=\u001b[0m\u001b[1;36m1\u001b[0m\u001b[1;33m)\u001b[0m\u001b[1;33m\u001b[0m\u001b[1;33m\u001b[0m\u001b[0m\n",
      "\u001b[1;32m~\\AppData\\Local\\Temp\\ipykernel_9824\\4232144952.py\u001b[0m in \u001b[0;36mmymax1\u001b[1;34m(prob, structure)\u001b[0m\n\u001b[0;32m     12\u001b[0m     \u001b[0mstructure\u001b[0m \u001b[1;33m=\u001b[0m \u001b[0mstructure\u001b[0m\u001b[1;33m[\u001b[0m\u001b[0mnp\u001b[0m\u001b[1;33m.\u001b[0m\u001b[0mnewaxis\u001b[0m\u001b[1;33m,\u001b[0m\u001b[1;33m:\u001b[0m\u001b[1;33m,\u001b[0m\u001b[1;33m:\u001b[0m\u001b[1;33m]\u001b[0m\u001b[1;33m\u001b[0m\u001b[1;33m\u001b[0m\u001b[0m\n\u001b[0;32m     13\u001b[0m     \u001b[0mprob\u001b[0m \u001b[1;33m=\u001b[0m \u001b[0mprob\u001b[0m\u001b[1;33m[\u001b[0m\u001b[1;33m:\u001b[0m\u001b[1;33m,\u001b[0m\u001b[1;33m:\u001b[0m\u001b[1;33m,\u001b[0m\u001b[0mtf\u001b[0m\u001b[1;33m.\u001b[0m\u001b[0mnewaxis\u001b[0m\u001b[1;33m]\u001b[0m\u001b[1;33m\u001b[0m\u001b[1;33m\u001b[0m\u001b[0m\n\u001b[1;32m---> 14\u001b[1;33m     \u001b[0mprob1\u001b[0m \u001b[1;33m=\u001b[0m \u001b[0mtf\u001b[0m\u001b[1;33m.\u001b[0m\u001b[0mreduce_max\u001b[0m\u001b[1;33m(\u001b[0m\u001b[0mprob\u001b[0m \u001b[1;33m*\u001b[0m \u001b[0mstructure\u001b[0m\u001b[1;33m,\u001b[0m \u001b[0maxis\u001b[0m\u001b[1;33m=\u001b[0m\u001b[1;36m1\u001b[0m\u001b[1;33m)\u001b[0m\u001b[1;33m\u001b[0m\u001b[1;33m\u001b[0m\u001b[0m\n\u001b[0m\u001b[0;32m     15\u001b[0m     \u001b[1;32mreturn\u001b[0m \u001b[0mprob1\u001b[0m\u001b[1;33m\u001b[0m\u001b[1;33m\u001b[0m\u001b[0m\n",
      "\u001b[1;32me:\\ProgramFiles\\Anaconda3\\envs\\tf\\lib\\site-packages\\tensorflow\\python\\util\\traceback_utils.py\u001b[0m in \u001b[0;36merror_handler\u001b[1;34m(*args, **kwargs)\u001b[0m\n\u001b[0;32m    148\u001b[0m     \u001b[0mfiltered_tb\u001b[0m \u001b[1;33m=\u001b[0m \u001b[1;32mNone\u001b[0m\u001b[1;33m\u001b[0m\u001b[1;33m\u001b[0m\u001b[0m\n\u001b[0;32m    149\u001b[0m     \u001b[1;32mtry\u001b[0m\u001b[1;33m:\u001b[0m\u001b[1;33m\u001b[0m\u001b[1;33m\u001b[0m\u001b[0m\n\u001b[1;32m--> 150\u001b[1;33m       \u001b[1;32mreturn\u001b[0m \u001b[0mfn\u001b[0m\u001b[1;33m(\u001b[0m\u001b[1;33m*\u001b[0m\u001b[0margs\u001b[0m\u001b[1;33m,\u001b[0m \u001b[1;33m**\u001b[0m\u001b[0mkwargs\u001b[0m\u001b[1;33m)\u001b[0m\u001b[1;33m\u001b[0m\u001b[1;33m\u001b[0m\u001b[0m\n\u001b[0m\u001b[0;32m    151\u001b[0m     \u001b[1;32mexcept\u001b[0m \u001b[0mException\u001b[0m \u001b[1;32mas\u001b[0m \u001b[0me\u001b[0m\u001b[1;33m:\u001b[0m\u001b[1;33m\u001b[0m\u001b[1;33m\u001b[0m\u001b[0m\n\u001b[0;32m    152\u001b[0m       \u001b[0mfiltered_tb\u001b[0m \u001b[1;33m=\u001b[0m \u001b[0m_process_traceback_frames\u001b[0m\u001b[1;33m(\u001b[0m\u001b[0me\u001b[0m\u001b[1;33m.\u001b[0m\u001b[0m__traceback__\u001b[0m\u001b[1;33m)\u001b[0m\u001b[1;33m\u001b[0m\u001b[1;33m\u001b[0m\u001b[0m\n",
      "\u001b[1;32me:\\ProgramFiles\\Anaconda3\\envs\\tf\\lib\\site-packages\\tensorflow\\python\\ops\\math_ops.py\u001b[0m in \u001b[0;36mbinary_op_wrapper\u001b[1;34m(x, y)\u001b[0m\n\u001b[0;32m   1404\u001b[0m         \u001b[1;31m#   r_binary_op_wrapper use different force_same_dtype values.\u001b[0m\u001b[1;33m\u001b[0m\u001b[1;33m\u001b[0m\u001b[1;33m\u001b[0m\u001b[0m\n\u001b[0;32m   1405\u001b[0m         \u001b[0mx\u001b[0m\u001b[1;33m,\u001b[0m \u001b[0my\u001b[0m \u001b[1;33m=\u001b[0m \u001b[0mmaybe_promote_tensors\u001b[0m\u001b[1;33m(\u001b[0m\u001b[0mx\u001b[0m\u001b[1;33m,\u001b[0m \u001b[0my\u001b[0m\u001b[1;33m)\u001b[0m\u001b[1;33m\u001b[0m\u001b[1;33m\u001b[0m\u001b[0m\n\u001b[1;32m-> 1406\u001b[1;33m         \u001b[1;32mreturn\u001b[0m \u001b[0mfunc\u001b[0m\u001b[1;33m(\u001b[0m\u001b[0mx\u001b[0m\u001b[1;33m,\u001b[0m \u001b[0my\u001b[0m\u001b[1;33m,\u001b[0m \u001b[0mname\u001b[0m\u001b[1;33m=\u001b[0m\u001b[0mname\u001b[0m\u001b[1;33m)\u001b[0m\u001b[1;33m\u001b[0m\u001b[1;33m\u001b[0m\u001b[0m\n\u001b[0m\u001b[0;32m   1407\u001b[0m       \u001b[1;32mexcept\u001b[0m \u001b[1;33m(\u001b[0m\u001b[0mTypeError\u001b[0m\u001b[1;33m,\u001b[0m \u001b[0mValueError\u001b[0m\u001b[1;33m)\u001b[0m \u001b[1;32mas\u001b[0m \u001b[0me\u001b[0m\u001b[1;33m:\u001b[0m\u001b[1;33m\u001b[0m\u001b[1;33m\u001b[0m\u001b[0m\n\u001b[0;32m   1408\u001b[0m         \u001b[1;31m# Even if dispatching the op failed, the RHS may be a tensor aware\u001b[0m\u001b[1;33m\u001b[0m\u001b[1;33m\u001b[0m\u001b[1;33m\u001b[0m\u001b[0m\n",
      "\u001b[1;32me:\\ProgramFiles\\Anaconda3\\envs\\tf\\lib\\site-packages\\tensorflow\\python\\ops\\math_ops.py\u001b[0m in \u001b[0;36m_mul_dispatch\u001b[1;34m(x, y, name)\u001b[0m\n\u001b[0;32m   1764\u001b[0m     \u001b[1;32mreturn\u001b[0m \u001b[0msparse_tensor\u001b[0m\u001b[1;33m.\u001b[0m\u001b[0mSparseTensor\u001b[0m\u001b[1;33m(\u001b[0m\u001b[0my\u001b[0m\u001b[1;33m.\u001b[0m\u001b[0mindices\u001b[0m\u001b[1;33m,\u001b[0m \u001b[0mnew_vals\u001b[0m\u001b[1;33m,\u001b[0m \u001b[0my\u001b[0m\u001b[1;33m.\u001b[0m\u001b[0mdense_shape\u001b[0m\u001b[1;33m)\u001b[0m\u001b[1;33m\u001b[0m\u001b[1;33m\u001b[0m\u001b[0m\n\u001b[0;32m   1765\u001b[0m   \u001b[1;32melse\u001b[0m\u001b[1;33m:\u001b[0m\u001b[1;33m\u001b[0m\u001b[1;33m\u001b[0m\u001b[0m\n\u001b[1;32m-> 1766\u001b[1;33m     \u001b[1;32mreturn\u001b[0m \u001b[0mmultiply\u001b[0m\u001b[1;33m(\u001b[0m\u001b[0mx\u001b[0m\u001b[1;33m,\u001b[0m \u001b[0my\u001b[0m\u001b[1;33m,\u001b[0m \u001b[0mname\u001b[0m\u001b[1;33m=\u001b[0m\u001b[0mname\u001b[0m\u001b[1;33m)\u001b[0m\u001b[1;33m\u001b[0m\u001b[1;33m\u001b[0m\u001b[0m\n\u001b[0m\u001b[0;32m   1767\u001b[0m \u001b[1;33m\u001b[0m\u001b[0m\n\u001b[0;32m   1768\u001b[0m \u001b[1;33m\u001b[0m\u001b[0m\n",
      "\u001b[1;32me:\\ProgramFiles\\Anaconda3\\envs\\tf\\lib\\site-packages\\tensorflow\\python\\util\\traceback_utils.py\u001b[0m in \u001b[0;36merror_handler\u001b[1;34m(*args, **kwargs)\u001b[0m\n\u001b[0;32m    148\u001b[0m     \u001b[0mfiltered_tb\u001b[0m \u001b[1;33m=\u001b[0m \u001b[1;32mNone\u001b[0m\u001b[1;33m\u001b[0m\u001b[1;33m\u001b[0m\u001b[0m\n\u001b[0;32m    149\u001b[0m     \u001b[1;32mtry\u001b[0m\u001b[1;33m:\u001b[0m\u001b[1;33m\u001b[0m\u001b[1;33m\u001b[0m\u001b[0m\n\u001b[1;32m--> 150\u001b[1;33m       \u001b[1;32mreturn\u001b[0m \u001b[0mfn\u001b[0m\u001b[1;33m(\u001b[0m\u001b[1;33m*\u001b[0m\u001b[0margs\u001b[0m\u001b[1;33m,\u001b[0m \u001b[1;33m**\u001b[0m\u001b[0mkwargs\u001b[0m\u001b[1;33m)\u001b[0m\u001b[1;33m\u001b[0m\u001b[1;33m\u001b[0m\u001b[0m\n\u001b[0m\u001b[0;32m    151\u001b[0m     \u001b[1;32mexcept\u001b[0m \u001b[0mException\u001b[0m \u001b[1;32mas\u001b[0m \u001b[0me\u001b[0m\u001b[1;33m:\u001b[0m\u001b[1;33m\u001b[0m\u001b[1;33m\u001b[0m\u001b[0m\n\u001b[0;32m    152\u001b[0m       \u001b[0mfiltered_tb\u001b[0m \u001b[1;33m=\u001b[0m \u001b[0m_process_traceback_frames\u001b[0m\u001b[1;33m(\u001b[0m\u001b[0me\u001b[0m\u001b[1;33m.\u001b[0m\u001b[0m__traceback__\u001b[0m\u001b[1;33m)\u001b[0m\u001b[1;33m\u001b[0m\u001b[1;33m\u001b[0m\u001b[0m\n",
      "\u001b[1;32me:\\ProgramFiles\\Anaconda3\\envs\\tf\\lib\\site-packages\\tensorflow\\python\\util\\dispatch.py\u001b[0m in \u001b[0;36mop_dispatch_handler\u001b[1;34m(*args, **kwargs)\u001b[0m\n\u001b[0;32m   1080\u001b[0m       \u001b[1;31m# Fallback dispatch system (dispatch v1):\u001b[0m\u001b[1;33m\u001b[0m\u001b[1;33m\u001b[0m\u001b[1;33m\u001b[0m\u001b[0m\n\u001b[0;32m   1081\u001b[0m       \u001b[1;32mtry\u001b[0m\u001b[1;33m:\u001b[0m\u001b[1;33m\u001b[0m\u001b[1;33m\u001b[0m\u001b[0m\n\u001b[1;32m-> 1082\u001b[1;33m         \u001b[1;32mreturn\u001b[0m \u001b[0mdispatch_target\u001b[0m\u001b[1;33m(\u001b[0m\u001b[1;33m*\u001b[0m\u001b[0margs\u001b[0m\u001b[1;33m,\u001b[0m \u001b[1;33m**\u001b[0m\u001b[0mkwargs\u001b[0m\u001b[1;33m)\u001b[0m\u001b[1;33m\u001b[0m\u001b[1;33m\u001b[0m\u001b[0m\n\u001b[0m\u001b[0;32m   1083\u001b[0m       \u001b[1;32mexcept\u001b[0m \u001b[1;33m(\u001b[0m\u001b[0mTypeError\u001b[0m\u001b[1;33m,\u001b[0m \u001b[0mValueError\u001b[0m\u001b[1;33m)\u001b[0m\u001b[1;33m:\u001b[0m\u001b[1;33m\u001b[0m\u001b[1;33m\u001b[0m\u001b[0m\n\u001b[0;32m   1084\u001b[0m         \u001b[1;31m# Note: convert_to_eager_tensor currently raises a ValueError, not a\u001b[0m\u001b[1;33m\u001b[0m\u001b[1;33m\u001b[0m\u001b[1;33m\u001b[0m\u001b[0m\n",
      "\u001b[1;32me:\\ProgramFiles\\Anaconda3\\envs\\tf\\lib\\site-packages\\tensorflow\\python\\ops\\math_ops.py\u001b[0m in \u001b[0;36mmultiply\u001b[1;34m(x, y, name)\u001b[0m\n\u001b[0;32m    527\u001b[0m   \"\"\"\n\u001b[0;32m    528\u001b[0m \u001b[1;33m\u001b[0m\u001b[0m\n\u001b[1;32m--> 529\u001b[1;33m   \u001b[1;32mreturn\u001b[0m \u001b[0mgen_math_ops\u001b[0m\u001b[1;33m.\u001b[0m\u001b[0mmul\u001b[0m\u001b[1;33m(\u001b[0m\u001b[0mx\u001b[0m\u001b[1;33m,\u001b[0m \u001b[0my\u001b[0m\u001b[1;33m,\u001b[0m \u001b[0mname\u001b[0m\u001b[1;33m)\u001b[0m\u001b[1;33m\u001b[0m\u001b[1;33m\u001b[0m\u001b[0m\n\u001b[0m\u001b[0;32m    530\u001b[0m \u001b[1;33m\u001b[0m\u001b[0m\n\u001b[0;32m    531\u001b[0m \u001b[1;33m\u001b[0m\u001b[0m\n",
      "\u001b[1;32me:\\ProgramFiles\\Anaconda3\\envs\\tf\\lib\\site-packages\\tensorflow\\python\\ops\\gen_math_ops.py\u001b[0m in \u001b[0;36mmul\u001b[1;34m(x, y, name)\u001b[0m\n\u001b[0;32m   6574\u001b[0m     \u001b[1;32mtry\u001b[0m\u001b[1;33m:\u001b[0m\u001b[1;33m\u001b[0m\u001b[1;33m\u001b[0m\u001b[0m\n\u001b[0;32m   6575\u001b[0m       _result = pywrap_tfe.TFE_Py_FastPathExecute(\n\u001b[1;32m-> 6576\u001b[1;33m         _ctx, \"Mul\", name, x, y)\n\u001b[0m\u001b[0;32m   6577\u001b[0m       \u001b[1;32mreturn\u001b[0m \u001b[0m_result\u001b[0m\u001b[1;33m\u001b[0m\u001b[1;33m\u001b[0m\u001b[0m\n\u001b[0;32m   6578\u001b[0m     \u001b[1;32mexcept\u001b[0m \u001b[0m_core\u001b[0m\u001b[1;33m.\u001b[0m\u001b[0m_NotOkStatusException\u001b[0m \u001b[1;32mas\u001b[0m \u001b[0me\u001b[0m\u001b[1;33m:\u001b[0m\u001b[1;33m\u001b[0m\u001b[1;33m\u001b[0m\u001b[0m\n",
      "\u001b[1;31mKeyboardInterrupt\u001b[0m: "
     ]
    }
   ],
   "source": [
    "model = HMCModel(structure, 500, [2000,2000], 0.7)\n",
    "optimizer = tfa.optimizers.AdamW(learning_rate=1e-5, weight_decay=1e-5)\n",
    "\n",
    "def mylog(x):\n",
    "    x = tf.where(x < 1e-30, 1e-30, x)\n",
    "    return tf.math.log(x)\n",
    "\n",
    "# def cross_y_log(y,prob):\n",
    "#     ''' return y * log(prob), to avoid 0 * log(0)'''\n",
    "#     r = tf.where(y != 0, y * mylog(prob), 0)\n",
    "#     return r \n",
    "\n",
    "def loss_fn(y_true, y_logits, structure):\n",
    "    idx = tf.cast(tf.reduce_sum(y_true, axis=0) != y_true.shape[0], tf.float32) # remove root nodes\n",
    "    prob = tf.nn.sigmoid(y_logits)\n",
    "    part1 = - y_true * mylog(mymax1(prob * y_true, structure))\n",
    "    part2 = - (1-y_true) * mylog(1 - mymax1(prob, structure))\n",
    "    loss = part1 + part2\n",
    "    loss = tf.reduce_mean(loss * idx)\n",
    "    return loss \n",
    "\n",
    "def loss_fn_funny(y_true, y_logits, structure):\n",
    "    idx = tf.squeeze(tf.where(tf.reduce_sum(y_true, axis=0) != y_true.shape[0])) # remove root nodes\n",
    "    prob = model.get_prob(y_logits)\n",
    "    c_out = mymax1(prob, structure)\n",
    "    t_out = y_true * prob\n",
    "    t_out = mymax1(t_out, structure)\n",
    "    t_out = (1-y_true) * c_out + y_true * t_out\n",
    "    y_true1 = tf.gather(y_true, idx, axis=1)\n",
    "    t_out1 = tf.gather(t_out, idx, axis=1)\n",
    "    loss = tf.losses.BinaryCrossentropy(from_logits=False)(\n",
    "        y_true1, t_out1\n",
    "    )\n",
    "    return loss\n",
    "\n",
    "def train_a_step(model, optimizer, x_batch, y_batch, structure):\n",
    "    with tf.GradientTape() as tape:\n",
    "        logits = model(x_batch)\n",
    "        loss = loss_fn_funny(y_batch, logits, structure)\n",
    "        variables = model.trainable_variables\n",
    "        gradients = tape.gradient(loss, variables)\n",
    "        optimizer.apply_gradients(zip(gradients, variables))\n",
    "    return loss \n",
    "\n",
    "def train_epochs(model, optimizer, train_data, epochs, structure):\n",
    "    steps = (train.X.shape[0]+valid.X.shape[0]) // 4\n",
    "    loss_list = []\n",
    "    train_score_list = []\n",
    "    valid_score_list = []\n",
    "    test_score_list = []\n",
    "    for epoch in range(epochs):\n",
    "        loss = 0\n",
    "        for x_batch, y_batch in train_data.take(steps):\n",
    "            loss += train_a_step(model, optimizer, x_batch, y_batch, structure)\n",
    "        loss /= steps\n",
    "        loss_list.append(loss) \n",
    "        train_score = custom_score(train.Y, model.predict(train.X))\n",
    "        valid_score = custom_score(valid.Y, model.predict(valid.X))\n",
    "        test_score = custom_score(test.Y, model.predict(test.X))\n",
    "        train_score_list.append(train_score)\n",
    "        valid_score_list.append(valid_score)\n",
    "        test_score_list.append(test_score)\n",
    "    return loss_list, train_score_list, valid_score_list, test_score_list\n",
    "\n",
    "loss_list, train_score_list, valid_score_list, test_score_list = train_epochs(model, \n",
    "                                                                              optimizer, \n",
    "                                                                              train_data, \n",
    "                                                                              30,\n",
    "                                                                              structure)\n",
    "plt.plot(train_score_list, '-o', label='train score')\n",
    "plt.plot(valid_score_list, '-o', label = 'valid score')\n",
    "plt.plot(test_score_list, '-o', label = 'test score')\n",
    "plt.legend()"
   ]
  },
  {
   "cell_type": "code",
   "execution_count": 13,
   "metadata": {},
   "outputs": [
    {
     "data": {
      "text/plain": [
       "[0.13662807704996371,\n",
       " 0.1684745061446835,\n",
       " 0.20072915178386064,\n",
       " 0.21736697892924453,\n",
       " 0.2312183563112142,\n",
       " 0.24002892725323843,\n",
       " 0.24851794752044204,\n",
       " 0.2547531752354483,\n",
       " 0.25904750401055715,\n",
       " 0.26246186449980874,\n",
       " 0.2682450872393318,\n",
       " 0.271120919798836,\n",
       " 0.2747438255548903,\n",
       " 0.27646502379961646,\n",
       " 0.27876322906126416,\n",
       " 0.28314694884463393,\n",
       " 0.28399395218327006,\n",
       " 0.28398738137295715,\n",
       " 0.28720692955317717,\n",
       " 0.28850730434050836,\n",
       " 0.2880662311857941,\n",
       " 0.28968757404400736,\n",
       " 0.2920219145603601,\n",
       " 0.29026528819893593,\n",
       " 0.2915969501893222,\n",
       " 0.2932151909160071,\n",
       " 0.2931551244837861,\n",
       " 0.2940410499065939,\n",
       " 0.29276508043986865,\n",
       " 0.2945744638367554]"
      ]
     },
     "execution_count": 13,
     "metadata": {},
     "output_type": "execute_result"
    }
   ],
   "source": [
    "test_score_list"
   ]
  },
  {
   "attachments": {},
   "cell_type": "markdown",
   "metadata": {},
   "source": [
    "# Model with logits "
   ]
  },
  {
   "cell_type": "code",
   "execution_count": 4,
   "metadata": {},
   "outputs": [],
   "source": [
    "model = HMCModel(structure, 500, [2000,2000], 0.7)\n",
    "optimizer = tfa.optimizers.AdamW(learning_rate=1e-5, weight_decay=1e-5)"
   ]
  },
  {
   "cell_type": "code",
   "execution_count": 10,
   "metadata": {},
   "outputs": [
    {
     "data": {
      "text/plain": [
       "<matplotlib.legend.Legend at 0x227f32bda88>"
      ]
     },
     "execution_count": 10,
     "metadata": {},
     "output_type": "execute_result"
    },
    {
     "data": {
      "image/png": "[encoded data removed]",
      "text/plain": [
       "<Figure size 432x288 with 1 Axes>"
      ]
     },
     "metadata": {
      "needs_background": "light"
     },
     "output_type": "display_data"
    }
   ],
   "source": [
    "model = HMCModel(structure, 500, [2000,2000], 0.7)\n",
    "optimizer = tfa.optimizers.AdamW(learning_rate=1e-5, weight_decay=1e-5)\n",
    "\n",
    "def get_z(y_true):\n",
    "    @tf.custom_gradient\n",
    "    def get_z_fn(logits):\n",
    "        outputs = tf.where(y_true == 1, logits, -np.inf)\n",
    "        def grad(upstream):\n",
    "            return upstream * tf.where(y_true == 1, 1.0, 0.0)\n",
    "        return outputs, grad\n",
    "    return get_z_fn\n",
    "def mymax2(logits, structure):\n",
    "    structure = (structure + np.eye(structure.shape[0])).astype(np.float32)\n",
    "    structure = np.where(structure == 1, structure, -np.inf)\n",
    "    structure = np.where(structure==1, 0, structure)\n",
    "    structure = structure[np.newaxis,:,:]\n",
    "    logits = logits[:,:,tf.newaxis]\n",
    "    outputs = tf.reduce_max(structure + logits, axis=1)\n",
    "    return outputs\n",
    "\n",
    "def loss_fn(y_true, y_logits, structure):\n",
    "    get_z_fn = get_z(y_true)\n",
    "    z = get_z_fn(y_logits)\n",
    "    max_x = mymax2(y_logits, structure)\n",
    "    max_z = mymax2(z, structure)\n",
    "    part1 = y_true * softplus(max_z)\n",
    "    part2 = (1-y_true) * max_x\n",
    "    part3 = (1-y_true) * softplus(max_x)\n",
    "    return tf.reduce_mean(part1 + part2 + part3)\n",
    "\n",
    "def train_a_step(model, optimizer, x_batch, y_batch, structure):\n",
    "    with tf.GradientTape() as tape:\n",
    "        logits = model(x_batch)\n",
    "        loss = loss_fn(y_batch, logits, structure)\n",
    "        variables = model.trainable_variables\n",
    "        gradients = tape.gradient(loss, variables)\n",
    "        optimizer.apply_gradients(zip(gradients, variables))\n",
    "    return loss \n",
    "\n",
    "def train_epochs(model, optimizer, train_data, epochs, structure):\n",
    "    steps = (train.X.shape[0]+valid.X.shape[0]) // 4\n",
    "    loss_list = []\n",
    "    train_score_list = []\n",
    "    valid_score_list = []\n",
    "    test_score_list = []\n",
    "    for epoch in range(epochs):\n",
    "        loss = 0\n",
    "        for x_batch, y_batch in train_data.take(steps):\n",
    "            loss += train_a_step(model, optimizer, x_batch, y_batch, structure)\n",
    "        loss /= steps\n",
    "        loss_list.append(loss) \n",
    "        train_score = custom_score(train.Y, model.predict(train.X))\n",
    "        valid_score = custom_score(valid.Y, model.predict(valid.X))\n",
    "        test_score = custom_score(test.Y, model.predict(test.X))\n",
    "        train_score_list.append(train_score)\n",
    "        valid_score_list.append(valid_score)\n",
    "        test_score_list.append(test_score)\n",
    "    return loss_list, train_score_list, valid_score_list, test_score_list\n",
    "\n",
    "loss_list, train_score_list, valid_score_list, test_score_list = train_epochs(model, \n",
    "                                                                              optimizer, \n",
    "                                                                              train_data, \n",
    "                                                                              30,\n",
    "                                                                              structure)\n",
    "plt.plot(train_score_list, '-o', label='train score')\n",
    "plt.plot(valid_score_list, '-o', label = 'valid score')\n",
    "plt.plot(test_score_list, '-o', label = 'test score')\n",
    "plt.legend()"
   ]
  },
  {
   "cell_type": "code",
   "execution_count": 13,
   "metadata": {},
   "outputs": [
    {
     "data": {
      "text/plain": [
       "[0.14010853701181122,\n",
       " 0.18029002115709297,\n",
       " 0.20906508316794828,\n",
       " 0.22223712089349046,\n",
       " 0.23305186441784176,\n",
       " 0.24091271933739908,\n",
       " 0.25052908839942295,\n",
       " 0.2526472439439416,\n",
       " 0.2589185450957492,\n",
       " 0.2649115178863571]"
      ]
     },
     "execution_count": 13,
     "metadata": {},
     "output_type": "execute_result"
    }
   ],
   "source": [
    "test_score_list[:10]"
   ]
  },
  {
   "attachments": {},
   "cell_type": "markdown",
   "metadata": {},
   "source": [
    "# HMC-LSTM original model"
   ]
  },
  {
   "cell_type": "code",
   "execution_count": 6,
   "metadata": {},
   "outputs": [],
   "source": [
    "# we need to sort train.Y by class layers, that means the 1st column is the root, the 2nd to the \n",
    "# k-th are the second layer, ...\n",
    "def get_root(g):\n",
    "    ''' \n",
    "    g is a digraph\n",
    "    '''\n",
    "    roots = list()\n",
    "    for n in g.nodes():\n",
    "        ancenstors = list(nx.descendants(g,n)) # here we have to use descendants, because the data is structured to point descendants to ancenstors\n",
    "        if len(ancenstors) == 0:\n",
    "            roots.append(n)\n",
    "    return roots\n",
    "\n",
    "def get_label_layers(A):\n",
    "    '''\n",
    "    A is the adajancency matrix\n",
    "    '''\n",
    "    g = nx.DiGraph(A)\n",
    "    nodes = get_root(g)\n",
    "    layers = dict()\n",
    "    n_left = A.shape[0]\n",
    "    i = 0\n",
    "    while n_left > 0:\n",
    "        layers[i] = nodes\n",
    "        i += 1\n",
    "        n_left -= len(nodes)\n",
    "        descendants = list()\n",
    "        for n in nodes:\n",
    "            all_descendants = list(nx.ancestors(g, n))\n",
    "            descendants_n = [x for x in all_descendants if nx.shortest_path_length(g,x,n) <= 1]\n",
    "            descendants = descendants + descendants_n\n",
    "        nodes = descendants\n",
    "    return layers \n",
    "\n",
    "def preprocess_labels(A, Y):\n",
    "    ''' \n",
    "    A is the adajancency matrix, Y is the label matrix\n",
    "    '''\n",
    "    layers = get_label_layers(A)\n",
    "    col_idx = list()\n",
    "    num_layers = len(layers.keys())\n",
    "    class_list = list()\n",
    "    for i in range(num_layers):\n",
    "        col_idx = col_idx + layers[i]\n",
    "        class_list.append(len(layers[i]))\n",
    "    labels = tf.gather(Y,col_idx,axis=1)\n",
    "    new_A = A[col_idx][:,col_idx]\n",
    "    \n",
    "    return num_layers, col_idx, labels, layers, class_list, new_A\n",
    "\n",
    "num_layers, col_idx, labels, layers, class_list, new_A = preprocess_labels(train.A, tf.concat([train.Y, valid.Y], axis=0))\n",
    "test_labels = tf.gather(test.Y, col_idx, axis=1)"
   ]
  },
  {
   "cell_type": "code",
   "execution_count": 7,
   "metadata": {},
   "outputs": [],
   "source": [
    "train_data = tf.data.Dataset.from_tensor_slices(\n",
    "    (tf.concat([train.X, valid.X],axis=0), labels)\n",
    ").shuffle(buffer_size = (train.X.shape[0]+valid.X.shape[0])).batch(batch_size=4)"
   ]
  },
  {
   "cell_type": "code",
   "execution_count": 8,
   "metadata": {},
   "outputs": [],
   "source": [
    "from utilities import get_loss_fn_lstm\n",
    "model = HMC_LSTM(500, 0.5, class_list, num_layers, [2000], 0.7)\n",
    "loss_fn = get_loss_fn_lstm(new_A, 0.5, 0.5)\n",
    "optimizer = tfa.optimizers.AdamW(learning_rate=1e-5, weight_decay=1e-5)"
   ]
  },
  {
   "cell_type": "code",
   "execution_count": 9,
   "metadata": {},
   "outputs": [
    {
     "data": {
      "text/plain": [
       "<matplotlib.legend.Legend at 0x1ec4db39c48>"
      ]
     },
     "execution_count": 9,
     "metadata": {},
     "output_type": "execute_result"
    },
    {
     "data": {
      "image/png": "[encoded data removed]",
      "text/plain": [
       "<Figure size 432x288 with 1 Axes>"
      ]
     },
     "metadata": {
      "needs_background": "light"
     },
     "output_type": "display_data"
    }
   ],
   "source": [
    "def train_a_step(model, optimizer, x_batch, y_batch):\n",
    "    with tf.GradientTape() as tape:\n",
    "        logits = model(x_batch)\n",
    "        loss = loss_fn(y_batch, logits)\n",
    "        variables = model.trainable_variables \n",
    "        gradients = tape.gradient(loss, variables)\n",
    "        optimizer.apply_gradients(zip(gradients, variables))\n",
    "    return loss \n",
    "\n",
    "def train_epochs(model, optimizer, train_data, epochs):\n",
    "    steps = (train.X.shape[0]+valid.X.shape[0]) // 4\n",
    "    loss_list = []\n",
    "    train_score_list = []\n",
    "    valid_score_list = []\n",
    "    test_score_list = []\n",
    "    for epoch in range(epochs):\n",
    "        loss = 0\n",
    "        for x_batch, y_batch in train_data.take(steps):\n",
    "            loss += train_a_step(model, optimizer, x_batch, y_batch)\n",
    "        loss /= steps\n",
    "        loss_list.append(loss) \n",
    "        train_score = custom_score(labels, model.predict(tf.concat([train.X, valid.X],axis=0)))\n",
    "        test_score = custom_score(test_labels, model.predict(test.X))\n",
    "        train_score_list.append(train_score)\n",
    "        test_score_list.append(test_score)\n",
    "    return loss_list, train_score_list, valid_score_list, test_score_list\n",
    "\n",
    "loss_list, train_score_list, valid_score_list, test_score_list = train_epochs(model, \n",
    "                                                                              optimizer, \n",
    "                                                                              train_data, \n",
    "                                                                              50)\n",
    "plt.plot(train_score_list, '-o', label='train score')\n",
    "plt.plot(valid_score_list, '-o', label = 'valid score')\n",
    "plt.plot(test_score_list, '-o', label = 'test score')\n",
    "plt.legend()"
   ]
  },
  {
   "cell_type": "code",
   "execution_count": 11,
   "metadata": {},
   "outputs": [
    {
     "data": {
      "text/plain": [
       "[0.28595677958010113,\n",
       " 0.2857891924388157,\n",
       " 0.28774054853562087,\n",
       " 0.28703899977514835,\n",
       " 0.28863252089832503,\n",
       " 0.2882727634643109,\n",
       " 0.2883056959826833,\n",
       " 0.28940510817053133,\n",
       " 0.289286425308548,\n",
       " 0.28914205806540233,\n",
       " 0.28882075534603047,\n",
       " 0.2890310400949317,\n",
       " 0.28829149428722783,\n",
       " 0.2879449377987278,\n",
       " 0.28742161090451523,\n",
       " 0.287549337937857,\n",
       " 0.28764900763117546,\n",
       " 0.2874661125295296,\n",
       " 0.28725576133531705,\n",
       " 0.28646378815179185]"
      ]
     },
     "execution_count": 11,
     "metadata": {},
     "output_type": "execute_result"
    }
   ],
   "source": [
    "test_score_list[-20:]"
   ]
  },
  {
   "attachments": {},
   "cell_type": "markdown",
   "metadata": {},
   "source": [
    "# HMC-LSTM with hierarchical log loss"
   ]
  },
  {
   "cell_type": "code",
   "execution_count": 22,
   "metadata": {},
   "outputs": [],
   "source": [
    "# we need to sort train.Y by class layers, that means the 1st column is the root, the 2nd to the \n",
    "# k-th are the second layer, ...\n",
    "def get_root(g):\n",
    "    ''' \n",
    "    g is a digraph\n",
    "    '''\n",
    "    roots = list()\n",
    "    for n in g.nodes():\n",
    "        ancenstors = list(nx.descendants(g,n)) # here we have to use descendants, because the data is structured to point descendants to ancenstors\n",
    "        if len(ancenstors) == 0:\n",
    "            roots.append(n)\n",
    "    return roots\n",
    "\n",
    "def get_label_layers(A):\n",
    "    '''\n",
    "    A is the adajancency matrix\n",
    "    '''\n",
    "    g = nx.DiGraph(A)\n",
    "    nodes = get_root(g)\n",
    "    layers = dict()\n",
    "    n_left = A.shape[0]\n",
    "    i = 0\n",
    "    while n_left > 0:\n",
    "        layers[i] = nodes\n",
    "        i += 1\n",
    "        n_left -= len(nodes)\n",
    "        descendants = list()\n",
    "        for n in nodes:\n",
    "            all_descendants = list(nx.ancestors(g, n))\n",
    "            descendants_n = [x for x in all_descendants if nx.shortest_path_length(g,x,n) <= 1]\n",
    "            descendants = descendants + descendants_n\n",
    "        nodes = descendants\n",
    "    return layers \n",
    "\n",
    "def preprocess_labels(A, Y):\n",
    "    ''' \n",
    "    A is the adajancency matrix, Y is the label matrix\n",
    "    '''\n",
    "    layers = get_label_layers(A)\n",
    "    col_idx = list()\n",
    "    num_layers = len(layers.keys())\n",
    "    class_list = list()\n",
    "    for i in range(num_layers):\n",
    "        col_idx = col_idx + layers[i]\n",
    "        class_list.append(len(layers[i]))\n",
    "    labels = tf.gather(Y,col_idx,axis=1)\n",
    "    new_A = A[col_idx][:,col_idx]\n",
    "    \n",
    "    return num_layers, col_idx, labels, layers, class_list, new_A\n",
    "\n",
    "num_layers, col_idx, labels, layers, class_list, new_A = preprocess_labels(train.A, tf.concat([train.Y, valid.Y], axis=0))\n",
    "test_labels = tf.gather(test.Y, col_idx, axis=1)"
   ]
  },
  {
   "cell_type": "code",
   "execution_count": 23,
   "metadata": {},
   "outputs": [],
   "source": [
    "train_data = tf.data.Dataset.from_tensor_slices(\n",
    "    (tf.concat([train.X, valid.X],axis=0), labels)\n",
    ").shuffle(buffer_size = (train.X.shape[0]+valid.X.shape[0])).batch(batch_size=4)"
   ]
  },
  {
   "cell_type": "code",
   "execution_count": 24,
   "metadata": {},
   "outputs": [],
   "source": [
    "from utilities import get_loss_fn_lstm\n",
    "model = HMC_LSTM(1000, 0.5, class_list, num_layers, [2000], 0.7)\n",
    "loss_fn = get_loss_fn_log(new_A, 0.5)\n",
    "optimizer = tfa.optimizers.AdamW(learning_rate=1e-5, weight_decay=1e-6)"
   ]
  },
  {
   "cell_type": "code",
   "execution_count": 28,
   "metadata": {},
   "outputs": [
    {
     "data": {
      "text/plain": [
       "<matplotlib.legend.Legend at 0x1ec4e498108>"
      ]
     },
     "execution_count": 28,
     "metadata": {},
     "output_type": "execute_result"
    },
    {
     "data": {
      "image/png": "[encoded data removed]",
      "text/plain": [
       "<Figure size 432x288 with 1 Axes>"
      ]
     },
     "metadata": {
      "needs_background": "light"
     },
     "output_type": "display_data"
    }
   ],
   "source": [
    "def train_a_step(model, optimizer, x_batch, y_batch):\n",
    "    with tf.GradientTape() as tape:\n",
    "        logits = model(x_batch)\n",
    "        loss = loss_fn(y_batch, logits)\n",
    "        variables = model.trainable_variables \n",
    "        gradients = tape.gradient(loss, variables)\n",
    "        optimizer.apply_gradients(zip(gradients, variables))\n",
    "    return loss \n",
    "\n",
    "def train_epochs(model, optimizer, train_data, epochs):\n",
    "    steps = (train.X.shape[0]+valid.X.shape[0]) // 4\n",
    "    loss_list = []\n",
    "    train_score_list = []\n",
    "    valid_score_list = []\n",
    "    test_score_list = []\n",
    "    for epoch in range(epochs):\n",
    "        loss = 0\n",
    "        for x_batch, y_batch in train_data.take(steps):\n",
    "            loss += train_a_step(model, optimizer, x_batch, y_batch)\n",
    "        loss /= steps\n",
    "        loss_list.append(loss) \n",
    "        train_score = custom_score(labels, model.predict(tf.concat([train.X, valid.X],axis=0)))\n",
    "        test_score = custom_score(test_labels, model.predict(test.X))\n",
    "        train_score_list.append(train_score)\n",
    "        test_score_list.append(test_score)\n",
    "    return loss_list, train_score_list, valid_score_list, test_score_list\n",
    "\n",
    "loss_list, train_score_list, valid_score_list, test_score_list = train_epochs(model, \n",
    "                                                                              optimizer, \n",
    "                                                                              train_data, \n",
    "                                                                              50)\n",
    "plt.plot(train_score_list, '-o', label='train score')\n",
    "plt.plot(valid_score_list, '-o', label = 'valid score')\n",
    "plt.plot(test_score_list, '-o', label = 'test score')\n",
    "plt.legend()"
   ]
  },
  {
   "cell_type": "code",
   "execution_count": 30,
   "metadata": {},
   "outputs": [
    {
     "data": {
      "text/plain": [
       "[0.2739392962332782,\n",
       " 0.2737675657693601,\n",
       " 0.2744490389245256,\n",
       " 0.274909529025679,\n",
       " 0.2750207525961825,\n",
       " 0.275012286568983,\n",
       " 0.2747111770932818,\n",
       " 0.2740044478357401,\n",
       " 0.27136230576628073,\n",
       " 0.2753007867103503,\n",
       " 0.2734851113002745,\n",
       " 0.2738376179682704,\n",
       " 0.2753671256181654,\n",
       " 0.2747216940319176,\n",
       " 0.2741976036771141,\n",
       " 0.27602332526850637,\n",
       " 0.2750290362285618,\n",
       " 0.27405783602394124,\n",
       " 0.2749647429937466,\n",
       " 0.2746243553133191]"
      ]
     },
     "execution_count": 30,
     "metadata": {},
     "output_type": "execute_result"
    }
   ],
   "source": [
    "test_score_list[-20:]"
   ]
  },
  {
   "cell_type": "code",
   "execution_count": null,
   "metadata": {},
   "outputs": [],
   "source": [
    "\n",
    "p1 = 0."
   ]
  }
 ],
 "metadata": {
  "kernelspec": {
   "display_name": "tf",
   "language": "python",
   "name": "python3"
  },
  "language_info": {
   "codemirror_mode": {
    "name": "ipython",
    "version": 3
   },
   "file_extension": ".py",
   "mimetype": "text/x-python",
   "name": "python",
   "nbconvert_exporter": "python",
   "pygments_lexer": "ipython3",
   "version": "3.7.13"
  },
  "orig_nbformat": 4,
  "vscode": {
   "interpreter": {
    "hash": "9d1df8a9c631c41e95662a04b9faaa5fcedaf5ec92d88d24f4a9901426a87932"
   }
  }
 },
 "nbformat": 4,
 "nbformat_minor": 2
}
