{
 "cells": [
  {
   "cell_type": "code",
   "execution_count": 4,
   "metadata": {},
   "outputs": [],
   "source": [
    "from utils import datasets\n",
    "from utils.parser import * \n",
    "import os \n",
    "import numpy as np \n",
    "from sklearn.preprocessing import StandardScaler\n",
    "from sklearn.impute import SimpleImputer\n",
    "import tensorflow as tf \n",
    "from models import * \n",
    "from utilities import *\n",
    "from train_model_utilities import * \n",
    "os.environ[\"KMP_DUPLICATE_LIB_OK\"]=\"TRUE\"\n"
   ]
  },
  {
   "cell_type": "code",
   "execution_count": 17,
   "metadata": {},
   "outputs": [],
   "source": [
    "dataset_name = 'seq_FUN'\n",
    "train, valid, test = initialize_dataset(dataset_name, datasets)\n",
    "\n",
    "scalar = StandardScaler().fit(train.X)\n",
    "imputer = SimpleImputer(missing_values=np.nan, strategy='mean').fit(train.X)\n",
    "train.X = scalar.transform(imputer.transform(train.X))\n",
    "valid.X = scalar.transform(imputer.transform(valid.X))\n",
    "test.X = scalar.transform(imputer.transform(test.X))\n",
    "\n",
    "train.Y = tf.convert_to_tensor(train.Y, tf.float32)\n",
    "valid.Y = tf.convert_to_tensor(valid.Y, tf.float32)\n",
    "test.Y = tf.convert_to_tensor(test.Y, tf.float32)"
   ]
  },
  {
   "cell_type": "code",
   "execution_count": 18,
   "metadata": {},
   "outputs": [],
   "source": [
    "train_data = tf.data.Dataset.from_tensor_slices(\n",
    "    (train.X, train.Y)\n",
    ").shuffle(buffer_size = train.X.shape[0]).batch(batch_size=64)"
   ]
  },
  {
   "cell_type": "code",
   "execution_count": 5,
   "metadata": {},
   "outputs": [],
   "source": [
    "def get_structure_from_adajancency(adajancency):\n",
    "    structure = np.zeros(adajancency.shape)\n",
    "    g = nx.DiGraph(adajancency) # train.A is the matrix where the direct connections are stored \n",
    "    for i in range(len(adajancency)):\n",
    "        ancestors = list(nx.descendants(g, i)) #here we need to use the function nx.descendants() because in the directed graph the edges have source from the descendant and point towards the ancestor \n",
    "        if ancestors:\n",
    "            structure[i, ancestors] = 1\n",
    "    return structure "
   ]
  },
  {
   "cell_type": "code",
   "execution_count": 19,
   "metadata": {},
   "outputs": [],
   "source": [
    "structure = get_structure_from_adajancency(train.A)\n",
    "model = HMCModel(structure, 500, [2000,2000,2000], 0.7)\n",
    "loss_fn = get_loss_fn_coherent(structure)\n",
    "optimizer = tf.keras.optimizers.Adam(learning_rate=1e-4)\n",
    "train_epoch(model, optimizer, loss_fn, 'coherent_hmc', 200, \n",
    "            train_data, train.X, train.Y, valid.X, valid.Y, test.X, test.Y)"
   ]
  }
 ],
 "metadata": {
  "kernelspec": {
   "display_name": "tf",
   "language": "python",
   "name": "python3"
  },
  "language_info": {
   "codemirror_mode": {
    "name": "ipython",
    "version": 3
   },
   "file_extension": ".py",
   "mimetype": "text/x-python",
   "name": "python",
   "nbconvert_exporter": "python",
   "pygments_lexer": "ipython3",
   "version": "3.7.13"
  },
  "orig_nbformat": 4,
  "vscode": {
   "interpreter": {
    "hash": "0b118cd4708a217f676eace989c7f65c28bb1737b4d79cbde311a23c592f7bda"
   }
  }
 },
 "nbformat": 4,
 "nbformat_minor": 2
}
